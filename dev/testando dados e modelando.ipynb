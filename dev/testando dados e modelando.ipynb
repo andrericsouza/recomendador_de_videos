{
 "cells": [
  {
   "cell_type": "markdown",
   "metadata": {},
   "source": [
    "# Carregando as bibliotecas"
   ]
  },
  {
   "cell_type": "code",
   "execution_count": 53,
   "metadata": {},
   "outputs": [
    {
     "name": "stdout",
     "output_type": "stream",
     "text": [
      "Populating the interactive namespace from numpy and matplotlib\n"
     ]
    },
    {
     "name": "stderr",
     "output_type": "stream",
     "text": [
      "d:\\ANACONDA\\lib\\site-packages\\IPython\\core\\magics\\pylab.py:160: UserWarning: pylab import has clobbered these variables: ['hstack', 'vstack']\n",
      "`%matplotlib` prevents importing * from pylab and numpy\n",
      "  \"\\n`%matplotlib` prevents importing * from pylab and numpy\"\n"
     ]
    }
   ],
   "source": [
    "import pandas as pd\n",
    "import numpy as np\n",
    "import re\n",
    "import time\n",
    "import json\n",
    "pd.set_option(\"max.columns\",150)\n",
    "%matplotlib inline\n",
    "%pylab inline\n",
    "\n",
    "#modelagem\n",
    "from sklearn.linear_model import LogisticRegression\n",
    "from sklearn.tree import DecisionTreeClassifier\n",
    "from sklearn.ensemble import RandomForestClassifier\n",
    "from sklearn.model_selection import train_test_split"
   ]
  },
  {
   "cell_type": "markdown",
   "metadata": {},
   "source": [
    "# Carregando os dados"
   ]
  },
  {
   "cell_type": "code",
   "execution_count": 2,
   "metadata": {},
   "outputs": [
    {
     "data": {
      "text/plain": [
       "(1549, 15)"
      ]
     },
     "execution_count": 2,
     "metadata": {},
     "output_type": "execute_result"
    }
   ],
   "source": [
    "df = pd.read_csv(\"raw_data_com_labels.csv\", index_col=0, delimiter=';')\n",
    "df =df[df['p'].notnull()]\n",
    "df.shape"
   ]
  },
  {
   "cell_type": "code",
   "execution_count": 3,
   "metadata": {},
   "outputs": [
    {
     "data": {
      "text/html": [
       "<div>\n",
       "<style scoped>\n",
       "    .dataframe tbody tr th:only-of-type {\n",
       "        vertical-align: middle;\n",
       "    }\n",
       "\n",
       "    .dataframe tbody tr th {\n",
       "        vertical-align: top;\n",
       "    }\n",
       "\n",
       "    .dataframe thead th {\n",
       "        text-align: right;\n",
       "    }\n",
       "</style>\n",
       "<table border=\"1\" class=\"dataframe\">\n",
       "  <thead>\n",
       "    <tr style=\"text-align: right;\">\n",
       "      <th></th>\n",
       "      <th>title</th>\n",
       "      <th>p</th>\n",
       "      <th>view_count</th>\n",
       "      <th>description</th>\n",
       "      <th>uploader</th>\n",
       "      <th>upload_date</th>\n",
       "      <th>categories</th>\n",
       "      <th>tags</th>\n",
       "      <th>duration</th>\n",
       "      <th>webpage_url</th>\n",
       "      <th>like_count</th>\n",
       "      <th>average_rating</th>\n",
       "      <th>query</th>\n",
       "      <th>tempo_desde_pub</th>\n",
       "      <th>thumbnail</th>\n",
       "    </tr>\n",
       "  </thead>\n",
       "  <tbody>\n",
       "    <tr>\n",
       "      <th>0</th>\n",
       "      <td>Introduction to Machine Learning | Ù…Ù‚Ø¯Ù…Ø© ...</td>\n",
       "      <td>1</td>\n",
       "      <td>128</td>\n",
       "      <td>Ù„Ùˆ Ù„Ø³Ø© Ø¹Ù†Ø¯Ùƒ Ø§Ø³Ø¦Ù„Ø© Ø³Ø¨Ù‡Ù… ÙÙŠ ...</td>\n",
       "      <td>Deena Gergis</td>\n",
       "      <td>2021-01-01</td>\n",
       "      <td>['Education']</td>\n",
       "      <td>['Introduction to Machine Learning', 'Course',...</td>\n",
       "      <td>252.0</td>\n",
       "      <td>https://www.youtube.com/watch?v=SjsBGg1s0lo</td>\n",
       "      <td>29.0</td>\n",
       "      <td>5.0</td>\n",
       "      <td>machine+learning</td>\n",
       "      <td>28853.0</td>\n",
       "      <td>https://i.ytimg.com/vi_webp/SjsBGg1s0lo/maxres...</td>\n",
       "    </tr>\n",
       "    <tr>\n",
       "      <th>1</th>\n",
       "      <td>Zero Python &amp; Machine Learning Experience to D...</td>\n",
       "      <td>0</td>\n",
       "      <td>1</td>\n",
       "      <td>In less than 3 hours, this course will teach y...</td>\n",
       "      <td>Machine Learning by Python</td>\n",
       "      <td>2021-01-01</td>\n",
       "      <td>['Science &amp; Technology']</td>\n",
       "      <td>NaN</td>\n",
       "      <td>102.0</td>\n",
       "      <td>https://www.youtube.com/watch?v=KsP6gPc2lyw</td>\n",
       "      <td>3.0</td>\n",
       "      <td>5.0</td>\n",
       "      <td>machine+learning</td>\n",
       "      <td>28853.0</td>\n",
       "      <td>https://i.ytimg.com/vi_webp/KsP6gPc2lyw/maxres...</td>\n",
       "    </tr>\n",
       "    <tr>\n",
       "      <th>2</th>\n",
       "      <td>Mario I/O Machine Learning For Games</td>\n",
       "      <td>1</td>\n",
       "      <td>1</td>\n",
       "      <td>Subscribe : https://bit.ly/37Nv28i MarI/O is a...</td>\n",
       "      <td>Pro Gamer</td>\n",
       "      <td>2021-01-01</td>\n",
       "      <td>['Gaming']</td>\n",
       "      <td>['Super Mario World', 'Machine Learning', 'Neu...</td>\n",
       "      <td>342.0</td>\n",
       "      <td>https://www.youtube.com/watch?v=ZnGKJ2qE5Yw</td>\n",
       "      <td>NaN</td>\n",
       "      <td>NaN</td>\n",
       "      <td>machine+learning</td>\n",
       "      <td>28853.0</td>\n",
       "      <td>https://i.ytimg.com/vi_webp/ZnGKJ2qE5Yw/maxres...</td>\n",
       "    </tr>\n",
       "    <tr>\n",
       "      <th>3</th>\n",
       "      <td>Model Evaluation Tutorial | Machine Learning (...</td>\n",
       "      <td>1</td>\n",
       "      <td>13</td>\n",
       "      <td>Model Evaluation |</td>\n",
       "      <td>KONNEKSHIN</td>\n",
       "      <td>2021-01-01</td>\n",
       "      <td>['Education']</td>\n",
       "      <td>['Model Evaluation | Machine Learning (ML) | X...</td>\n",
       "      <td>1004.0</td>\n",
       "      <td>https://www.youtube.com/watch?v=57B37uJctso</td>\n",
       "      <td>2.0</td>\n",
       "      <td>5.0</td>\n",
       "      <td>machine+learning</td>\n",
       "      <td>28853.0</td>\n",
       "      <td>https://i.ytimg.com/vi/57B37uJctso/maxresdefau...</td>\n",
       "    </tr>\n",
       "    <tr>\n",
       "      <th>4</th>\n",
       "      <td>Online Certified Winter Training in Machine Le...</td>\n",
       "      <td>1</td>\n",
       "      <td>98</td>\n",
       "      <td>Reference Notes: 1) Decision tree on Iris Data...</td>\n",
       "      <td>Goeduhub Technologies</td>\n",
       "      <td>2021-01-01</td>\n",
       "      <td>['Education']</td>\n",
       "      <td>NaN</td>\n",
       "      <td>3348.0</td>\n",
       "      <td>https://www.youtube.com/watch?v=tolNACfneQE</td>\n",
       "      <td>12.0</td>\n",
       "      <td>5.0</td>\n",
       "      <td>machine+learning</td>\n",
       "      <td>28853.0</td>\n",
       "      <td>https://i.ytimg.com/vi/tolNACfneQE/maxresdefau...</td>\n",
       "    </tr>\n",
       "  </tbody>\n",
       "</table>\n",
       "</div>"
      ],
      "text/plain": [
       "                                               title  p  view_count  \\\n",
       "0  Introduction to Machine Learning | Ù…Ù‚Ø¯Ù…Ø© ...  1         128   \n",
       "1  Zero Python & Machine Learning Experience to D...  0           1   \n",
       "2               Mario I/O Machine Learning For Games  1           1   \n",
       "3  Model Evaluation Tutorial | Machine Learning (...  1          13   \n",
       "4  Online Certified Winter Training in Machine Le...  1          98   \n",
       "\n",
       "                                         description  \\\n",
       "0  Ù„Ùˆ Ù„Ø³Ø© Ø¹Ù†Ø¯Ùƒ Ø§Ø³Ø¦Ù„Ø© Ø³Ø¨Ù‡Ù… ÙÙŠ ...   \n",
       "1  In less than 3 hours, this course will teach y...   \n",
       "2  Subscribe : https://bit.ly/37Nv28i MarI/O is a...   \n",
       "3                                Model Evaluation |    \n",
       "4  Reference Notes: 1) Decision tree on Iris Data...   \n",
       "\n",
       "                     uploader upload_date                categories  \\\n",
       "0                Deena Gergis  2021-01-01             ['Education']   \n",
       "1  Machine Learning by Python  2021-01-01  ['Science & Technology']   \n",
       "2                   Pro Gamer  2021-01-01                ['Gaming']   \n",
       "3                  KONNEKSHIN  2021-01-01             ['Education']   \n",
       "4       Goeduhub Technologies  2021-01-01             ['Education']   \n",
       "\n",
       "                                                tags  duration  \\\n",
       "0  ['Introduction to Machine Learning', 'Course',...     252.0   \n",
       "1                                                NaN     102.0   \n",
       "2  ['Super Mario World', 'Machine Learning', 'Neu...     342.0   \n",
       "3  ['Model Evaluation | Machine Learning (ML) | X...    1004.0   \n",
       "4                                                NaN    3348.0   \n",
       "\n",
       "                                   webpage_url  like_count average_rating  \\\n",
       "0  https://www.youtube.com/watch?v=SjsBGg1s0lo        29.0            5.0   \n",
       "1  https://www.youtube.com/watch?v=KsP6gPc2lyw         3.0            5.0   \n",
       "2  https://www.youtube.com/watch?v=ZnGKJ2qE5Yw         NaN            NaN   \n",
       "3  https://www.youtube.com/watch?v=57B37uJctso         2.0            5.0   \n",
       "4  https://www.youtube.com/watch?v=tolNACfneQE        12.0            5.0   \n",
       "\n",
       "              query  tempo_desde_pub  \\\n",
       "0  machine+learning          28853.0   \n",
       "1  machine+learning          28853.0   \n",
       "2  machine+learning          28853.0   \n",
       "3  machine+learning          28853.0   \n",
       "4  machine+learning          28853.0   \n",
       "\n",
       "                                           thumbnail  \n",
       "0  https://i.ytimg.com/vi_webp/SjsBGg1s0lo/maxres...  \n",
       "1  https://i.ytimg.com/vi_webp/KsP6gPc2lyw/maxres...  \n",
       "2  https://i.ytimg.com/vi_webp/ZnGKJ2qE5Yw/maxres...  \n",
       "3  https://i.ytimg.com/vi/57B37uJctso/maxresdefau...  \n",
       "4  https://i.ytimg.com/vi/tolNACfneQE/maxresdefau...  "
      ]
     },
     "execution_count": 3,
     "metadata": {},
     "output_type": "execute_result"
    }
   ],
   "source": [
    "df.head()"
   ]
  },
  {
   "cell_type": "markdown",
   "metadata": {},
   "source": [
    "# Criando um DF limpo para ser usado no modelo"
   ]
  },
  {
   "cell_type": "code",
   "execution_count": 4,
   "metadata": {},
   "outputs": [],
   "source": [
    "df_limpo = pd.DataFrame(index=df.index)"
   ]
  },
  {
   "cell_type": "code",
   "execution_count": 5,
   "metadata": {},
   "outputs": [
    {
     "data": {
      "text/html": [
       "<div>\n",
       "<style scoped>\n",
       "    .dataframe tbody tr th:only-of-type {\n",
       "        vertical-align: middle;\n",
       "    }\n",
       "\n",
       "    .dataframe tbody tr th {\n",
       "        vertical-align: top;\n",
       "    }\n",
       "\n",
       "    .dataframe thead th {\n",
       "        text-align: right;\n",
       "    }\n",
       "</style>\n",
       "<table border=\"1\" class=\"dataframe\">\n",
       "  <thead>\n",
       "    <tr style=\"text-align: right;\">\n",
       "      <th></th>\n",
       "    </tr>\n",
       "  </thead>\n",
       "  <tbody>\n",
       "    <tr>\n",
       "      <th>0</th>\n",
       "    </tr>\n",
       "    <tr>\n",
       "      <th>1</th>\n",
       "    </tr>\n",
       "    <tr>\n",
       "      <th>2</th>\n",
       "    </tr>\n",
       "    <tr>\n",
       "      <th>3</th>\n",
       "    </tr>\n",
       "    <tr>\n",
       "      <th>4</th>\n",
       "    </tr>\n",
       "  </tbody>\n",
       "</table>\n",
       "</div>"
      ],
      "text/plain": [
       "Empty DataFrame\n",
       "Columns: []\n",
       "Index: [0, 1, 2, 3, 4]"
      ]
     },
     "execution_count": 5,
     "metadata": {},
     "output_type": "execute_result"
    }
   ],
   "source": [
    "df_limpo.head()"
   ]
  },
  {
   "cell_type": "code",
   "execution_count": 6,
   "metadata": {},
   "outputs": [
    {
     "data": {
      "text/plain": [
       "title               object\n",
       "p                    int64\n",
       "view_count           int64\n",
       "description         object\n",
       "uploader            object\n",
       "upload_date         object\n",
       "categories          object\n",
       "tags                object\n",
       "duration           float64\n",
       "webpage_url         object\n",
       "like_count         float64\n",
       "average_rating      object\n",
       "query               object\n",
       "tempo_desde_pub    float64\n",
       "thumbnail           object\n",
       "dtype: object"
      ]
     },
     "execution_count": 6,
     "metadata": {},
     "output_type": "execute_result"
    }
   ],
   "source": [
    "df.dtypes"
   ]
  },
  {
   "cell_type": "code",
   "execution_count": 7,
   "metadata": {},
   "outputs": [],
   "source": [
    "df_limpo['upload_date'] = df['upload_date']"
   ]
  },
  {
   "cell_type": "code",
   "execution_count": 8,
   "metadata": {},
   "outputs": [
    {
     "data": {
      "text/html": [
       "<div>\n",
       "<style scoped>\n",
       "    .dataframe tbody tr th:only-of-type {\n",
       "        vertical-align: middle;\n",
       "    }\n",
       "\n",
       "    .dataframe tbody tr th {\n",
       "        vertical-align: top;\n",
       "    }\n",
       "\n",
       "    .dataframe thead th {\n",
       "        text-align: right;\n",
       "    }\n",
       "</style>\n",
       "<table border=\"1\" class=\"dataframe\">\n",
       "  <thead>\n",
       "    <tr style=\"text-align: right;\">\n",
       "      <th></th>\n",
       "      <th>upload_date</th>\n",
       "    </tr>\n",
       "  </thead>\n",
       "  <tbody>\n",
       "    <tr>\n",
       "      <th>0</th>\n",
       "      <td>2021-01-01</td>\n",
       "    </tr>\n",
       "    <tr>\n",
       "      <th>1</th>\n",
       "      <td>2021-01-01</td>\n",
       "    </tr>\n",
       "    <tr>\n",
       "      <th>2</th>\n",
       "      <td>2021-01-01</td>\n",
       "    </tr>\n",
       "    <tr>\n",
       "      <th>3</th>\n",
       "      <td>2021-01-01</td>\n",
       "    </tr>\n",
       "    <tr>\n",
       "      <th>4</th>\n",
       "      <td>2021-01-01</td>\n",
       "    </tr>\n",
       "  </tbody>\n",
       "</table>\n",
       "</div>"
      ],
      "text/plain": [
       "  upload_date\n",
       "0  2021-01-01\n",
       "1  2021-01-01\n",
       "2  2021-01-01\n",
       "3  2021-01-01\n",
       "4  2021-01-01"
      ]
     },
     "execution_count": 8,
     "metadata": {},
     "output_type": "execute_result"
    }
   ],
   "source": [
    "df_limpo.head()"
   ]
  },
  {
   "cell_type": "code",
   "execution_count": 9,
   "metadata": {},
   "outputs": [
    {
     "data": {
      "text/html": [
       "<div>\n",
       "<style scoped>\n",
       "    .dataframe tbody tr th:only-of-type {\n",
       "        vertical-align: middle;\n",
       "    }\n",
       "\n",
       "    .dataframe tbody tr th {\n",
       "        vertical-align: top;\n",
       "    }\n",
       "\n",
       "    .dataframe thead th {\n",
       "        text-align: right;\n",
       "    }\n",
       "</style>\n",
       "<table border=\"1\" class=\"dataframe\">\n",
       "  <thead>\n",
       "    <tr style=\"text-align: right;\">\n",
       "      <th></th>\n",
       "      <th>upload_date</th>\n",
       "      <th>view_count</th>\n",
       "    </tr>\n",
       "  </thead>\n",
       "  <tbody>\n",
       "    <tr>\n",
       "      <th>0</th>\n",
       "      <td>2021-01-01</td>\n",
       "      <td>128</td>\n",
       "    </tr>\n",
       "    <tr>\n",
       "      <th>1</th>\n",
       "      <td>2021-01-01</td>\n",
       "      <td>1</td>\n",
       "    </tr>\n",
       "    <tr>\n",
       "      <th>2</th>\n",
       "      <td>2021-01-01</td>\n",
       "      <td>1</td>\n",
       "    </tr>\n",
       "    <tr>\n",
       "      <th>3</th>\n",
       "      <td>2021-01-01</td>\n",
       "      <td>13</td>\n",
       "    </tr>\n",
       "    <tr>\n",
       "      <th>4</th>\n",
       "      <td>2021-01-01</td>\n",
       "      <td>98</td>\n",
       "    </tr>\n",
       "  </tbody>\n",
       "</table>\n",
       "</div>"
      ],
      "text/plain": [
       "  upload_date  view_count\n",
       "0  2021-01-01         128\n",
       "1  2021-01-01           1\n",
       "2  2021-01-01           1\n",
       "3  2021-01-01          13\n",
       "4  2021-01-01          98"
      ]
     },
     "execution_count": 9,
     "metadata": {},
     "output_type": "execute_result"
    }
   ],
   "source": [
    "df_limpo['view_count'] = df['view_count']\n",
    "df_limpo.head()"
   ]
  },
  {
   "cell_type": "code",
   "execution_count": 10,
   "metadata": {},
   "outputs": [
    {
     "data": {
      "text/html": [
       "<div>\n",
       "<style scoped>\n",
       "    .dataframe tbody tr th:only-of-type {\n",
       "        vertical-align: middle;\n",
       "    }\n",
       "\n",
       "    .dataframe tbody tr th {\n",
       "        vertical-align: top;\n",
       "    }\n",
       "\n",
       "    .dataframe thead th {\n",
       "        text-align: right;\n",
       "    }\n",
       "</style>\n",
       "<table border=\"1\" class=\"dataframe\">\n",
       "  <thead>\n",
       "    <tr style=\"text-align: right;\">\n",
       "      <th></th>\n",
       "      <th>upload_date</th>\n",
       "      <th>view_count</th>\n",
       "      <th>duration</th>\n",
       "    </tr>\n",
       "  </thead>\n",
       "  <tbody>\n",
       "    <tr>\n",
       "      <th>0</th>\n",
       "      <td>2021-01-01</td>\n",
       "      <td>128</td>\n",
       "      <td>252</td>\n",
       "    </tr>\n",
       "    <tr>\n",
       "      <th>1</th>\n",
       "      <td>2021-01-01</td>\n",
       "      <td>1</td>\n",
       "      <td>102</td>\n",
       "    </tr>\n",
       "    <tr>\n",
       "      <th>2</th>\n",
       "      <td>2021-01-01</td>\n",
       "      <td>1</td>\n",
       "      <td>342</td>\n",
       "    </tr>\n",
       "    <tr>\n",
       "      <th>3</th>\n",
       "      <td>2021-01-01</td>\n",
       "      <td>13</td>\n",
       "      <td>1004</td>\n",
       "    </tr>\n",
       "    <tr>\n",
       "      <th>4</th>\n",
       "      <td>2021-01-01</td>\n",
       "      <td>98</td>\n",
       "      <td>3348</td>\n",
       "    </tr>\n",
       "  </tbody>\n",
       "</table>\n",
       "</div>"
      ],
      "text/plain": [
       "  upload_date  view_count  duration\n",
       "0  2021-01-01         128       252\n",
       "1  2021-01-01           1       102\n",
       "2  2021-01-01           1       342\n",
       "3  2021-01-01          13      1004\n",
       "4  2021-01-01          98      3348"
      ]
     },
     "execution_count": 10,
     "metadata": {},
     "output_type": "execute_result"
    }
   ],
   "source": [
    "df_limpo['duration'] = df['duration'].fillna(0).astype('int')\n",
    "df_limpo.head()"
   ]
  },
  {
   "cell_type": "code",
   "execution_count": 11,
   "metadata": {},
   "outputs": [
    {
     "data": {
      "text/html": [
       "<div>\n",
       "<style scoped>\n",
       "    .dataframe tbody tr th:only-of-type {\n",
       "        vertical-align: middle;\n",
       "    }\n",
       "\n",
       "    .dataframe tbody tr th {\n",
       "        vertical-align: top;\n",
       "    }\n",
       "\n",
       "    .dataframe thead th {\n",
       "        text-align: right;\n",
       "    }\n",
       "</style>\n",
       "<table border=\"1\" class=\"dataframe\">\n",
       "  <thead>\n",
       "    <tr style=\"text-align: right;\">\n",
       "      <th></th>\n",
       "      <th>upload_date</th>\n",
       "      <th>view_count</th>\n",
       "      <th>duration</th>\n",
       "      <th>like_count</th>\n",
       "    </tr>\n",
       "  </thead>\n",
       "  <tbody>\n",
       "    <tr>\n",
       "      <th>0</th>\n",
       "      <td>2021-01-01</td>\n",
       "      <td>128</td>\n",
       "      <td>252</td>\n",
       "      <td>29</td>\n",
       "    </tr>\n",
       "    <tr>\n",
       "      <th>1</th>\n",
       "      <td>2021-01-01</td>\n",
       "      <td>1</td>\n",
       "      <td>102</td>\n",
       "      <td>3</td>\n",
       "    </tr>\n",
       "    <tr>\n",
       "      <th>2</th>\n",
       "      <td>2021-01-01</td>\n",
       "      <td>1</td>\n",
       "      <td>342</td>\n",
       "      <td>0</td>\n",
       "    </tr>\n",
       "    <tr>\n",
       "      <th>3</th>\n",
       "      <td>2021-01-01</td>\n",
       "      <td>13</td>\n",
       "      <td>1004</td>\n",
       "      <td>2</td>\n",
       "    </tr>\n",
       "    <tr>\n",
       "      <th>4</th>\n",
       "      <td>2021-01-01</td>\n",
       "      <td>98</td>\n",
       "      <td>3348</td>\n",
       "      <td>12</td>\n",
       "    </tr>\n",
       "  </tbody>\n",
       "</table>\n",
       "</div>"
      ],
      "text/plain": [
       "  upload_date  view_count  duration  like_count\n",
       "0  2021-01-01         128       252          29\n",
       "1  2021-01-01           1       102           3\n",
       "2  2021-01-01           1       342           0\n",
       "3  2021-01-01          13      1004           2\n",
       "4  2021-01-01          98      3348          12"
      ]
     },
     "execution_count": 11,
     "metadata": {},
     "output_type": "execute_result"
    }
   ],
   "source": [
    "df_limpo['like_count'] = df['like_count'].fillna(0).astype('int')\n",
    "df_limpo.head()"
   ]
  },
  {
   "cell_type": "code",
   "execution_count": 12,
   "metadata": {},
   "outputs": [
    {
     "data": {
      "text/html": [
       "<div>\n",
       "<style scoped>\n",
       "    .dataframe tbody tr th:only-of-type {\n",
       "        vertical-align: middle;\n",
       "    }\n",
       "\n",
       "    .dataframe tbody tr th {\n",
       "        vertical-align: top;\n",
       "    }\n",
       "\n",
       "    .dataframe thead th {\n",
       "        text-align: right;\n",
       "    }\n",
       "</style>\n",
       "<table border=\"1\" class=\"dataframe\">\n",
       "  <thead>\n",
       "    <tr style=\"text-align: right;\">\n",
       "      <th></th>\n",
       "      <th>upload_date</th>\n",
       "      <th>view_count</th>\n",
       "      <th>duration</th>\n",
       "      <th>like_count</th>\n",
       "      <th>tempo_desde_pub</th>\n",
       "    </tr>\n",
       "  </thead>\n",
       "  <tbody>\n",
       "    <tr>\n",
       "      <th>0</th>\n",
       "      <td>2021-01-01</td>\n",
       "      <td>128</td>\n",
       "      <td>252</td>\n",
       "      <td>29</td>\n",
       "      <td>28853</td>\n",
       "    </tr>\n",
       "    <tr>\n",
       "      <th>1</th>\n",
       "      <td>2021-01-01</td>\n",
       "      <td>1</td>\n",
       "      <td>102</td>\n",
       "      <td>3</td>\n",
       "      <td>28853</td>\n",
       "    </tr>\n",
       "    <tr>\n",
       "      <th>2</th>\n",
       "      <td>2021-01-01</td>\n",
       "      <td>1</td>\n",
       "      <td>342</td>\n",
       "      <td>0</td>\n",
       "      <td>28853</td>\n",
       "    </tr>\n",
       "    <tr>\n",
       "      <th>3</th>\n",
       "      <td>2021-01-01</td>\n",
       "      <td>13</td>\n",
       "      <td>1004</td>\n",
       "      <td>2</td>\n",
       "      <td>28853</td>\n",
       "    </tr>\n",
       "    <tr>\n",
       "      <th>4</th>\n",
       "      <td>2021-01-01</td>\n",
       "      <td>98</td>\n",
       "      <td>3348</td>\n",
       "      <td>12</td>\n",
       "      <td>28853</td>\n",
       "    </tr>\n",
       "  </tbody>\n",
       "</table>\n",
       "</div>"
      ],
      "text/plain": [
       "  upload_date  view_count  duration  like_count  tempo_desde_pub\n",
       "0  2021-01-01         128       252          29            28853\n",
       "1  2021-01-01           1       102           3            28853\n",
       "2  2021-01-01           1       342           0            28853\n",
       "3  2021-01-01          13      1004           2            28853\n",
       "4  2021-01-01          98      3348          12            28853"
      ]
     },
     "execution_count": 12,
     "metadata": {},
     "output_type": "execute_result"
    }
   ],
   "source": [
    "df_limpo['tempo_desde_pub'] = df['tempo_desde_pub'].fillna(0).astype('int')\n",
    "df_limpo.head()"
   ]
  },
  {
   "cell_type": "markdown",
   "metadata": {},
   "source": [
    "# Features"
   ]
  },
  {
   "cell_type": "code",
   "execution_count": 13,
   "metadata": {},
   "outputs": [],
   "source": [
    "features = pd.DataFrame(index=df_limpo.index)\n",
    "y = df['p'].copy()"
   ]
  },
  {
   "cell_type": "code",
   "execution_count": 14,
   "metadata": {},
   "outputs": [
    {
     "data": {
      "text/plain": [
       "0       28853.0\n",
       "1       28853.0\n",
       "2       28853.0\n",
       "3       28853.0\n",
       "4       28853.0\n",
       "         ...   \n",
       "1544    29538.0\n",
       "1545    29541.0\n",
       "1546    29548.0\n",
       "1547    29548.0\n",
       "1548    29549.0\n",
       "Name: upload_date, Length: 1549, dtype: float64"
      ]
     },
     "execution_count": 14,
     "metadata": {},
     "output_type": "execute_result"
    }
   ],
   "source": [
    "(pd.to_datetime(\"2099-12-31\")- pd.to_datetime(df_limpo[\"upload_date\"])) / np.timedelta64(1,'D')"
   ]
  },
  {
   "cell_type": "code",
   "execution_count": 15,
   "metadata": {},
   "outputs": [
    {
     "data": {
      "text/html": [
       "<div>\n",
       "<style scoped>\n",
       "    .dataframe tbody tr th:only-of-type {\n",
       "        vertical-align: middle;\n",
       "    }\n",
       "\n",
       "    .dataframe tbody tr th {\n",
       "        vertical-align: top;\n",
       "    }\n",
       "\n",
       "    .dataframe thead th {\n",
       "        text-align: right;\n",
       "    }\n",
       "</style>\n",
       "<table border=\"1\" class=\"dataframe\">\n",
       "  <thead>\n",
       "    <tr style=\"text-align: right;\">\n",
       "      <th></th>\n",
       "      <th>views</th>\n",
       "      <th>views_por_dia</th>\n",
       "    </tr>\n",
       "  </thead>\n",
       "  <tbody>\n",
       "    <tr>\n",
       "      <th>0</th>\n",
       "      <td>128</td>\n",
       "      <td>0.004436</td>\n",
       "    </tr>\n",
       "    <tr>\n",
       "      <th>1</th>\n",
       "      <td>1</td>\n",
       "      <td>0.000035</td>\n",
       "    </tr>\n",
       "    <tr>\n",
       "      <th>2</th>\n",
       "      <td>1</td>\n",
       "      <td>0.000035</td>\n",
       "    </tr>\n",
       "    <tr>\n",
       "      <th>3</th>\n",
       "      <td>13</td>\n",
       "      <td>0.000451</td>\n",
       "    </tr>\n",
       "    <tr>\n",
       "      <th>4</th>\n",
       "      <td>98</td>\n",
       "      <td>0.003397</td>\n",
       "    </tr>\n",
       "  </tbody>\n",
       "</table>\n",
       "</div>"
      ],
      "text/plain": [
       "   views  views_por_dia\n",
       "0    128       0.004436\n",
       "1      1       0.000035\n",
       "2      1       0.000035\n",
       "3     13       0.000451\n",
       "4     98       0.003397"
      ]
     },
     "execution_count": 15,
     "metadata": {},
     "output_type": "execute_result"
    }
   ],
   "source": [
    "features['tempo_desde_pub'] = (pd.to_datetime(\"2099-12-31\")- pd.to_datetime(df_limpo[\"upload_date\"])) / np.timedelta64(1,'D')\n",
    "features['views'] = df_limpo['view_count']\n",
    "features['views_por_dia'] = features['views'] / features['tempo_desde_pub']\n",
    "features = features.drop(['tempo_desde_pub'], axis=1)\n",
    "features.head()"
   ]
  },
  {
   "cell_type": "code",
   "execution_count": 16,
   "metadata": {
    "scrolled": true
   },
   "outputs": [
    {
     "data": {
      "text/plain": [
       "<AxesSubplot:>"
      ]
     },
     "execution_count": 16,
     "metadata": {},
     "output_type": "execute_result"
    },
    {
     "data": {
      "image/png": "[encoded data removed]",
      "text/plain": [
       "<Figure size 1440x720 with 1 Axes>"
      ]
     },
     "metadata": {
      "needs_background": "light"
     },
     "output_type": "display_data"
    }
   ],
   "source": [
    "df_limpo['upload_date'].value_counts().plot(figsize=(20,10))"
   ]
  },
  {
   "cell_type": "code",
   "execution_count": 17,
   "metadata": {},
   "outputs": [
    {
     "data": {
      "text/plain": [
       "((758, 2), (791, 2), (758,), (791,))"
      ]
     },
     "execution_count": 17,
     "metadata": {},
     "output_type": "execute_result"
    }
   ],
   "source": [
    "Xtrain, Xval = features[df_limpo['upload_date'] < '2020-06-15'],features[df_limpo['upload_date'] >= '2020-06-15']\n",
    "Ytrain, Yval = y[df_limpo['upload_date'] < '2020-06-15'],y[df_limpo['upload_date'] >= '2020-06-15']\n",
    "Xtrain.shape, Xval.shape, Ytrain.shape, Yval.shape"
   ]
  },
  {
   "cell_type": "code",
   "execution_count": 18,
   "metadata": {},
   "outputs": [
    {
     "data": {
      "text/plain": [
       "DecisionTreeClassifier(class_weight='balanced', max_depth=2, random_state=0)"
      ]
     },
     "execution_count": 18,
     "metadata": {},
     "output_type": "execute_result"
    }
   ],
   "source": [
    "mdl = DecisionTreeClassifier(random_state=0, max_depth=2, class_weight='balanced')\n",
    "mdl.fit(Xtrain, Ytrain)"
   ]
  },
  {
   "cell_type": "code",
   "execution_count": 19,
   "metadata": {},
   "outputs": [],
   "source": [
    "p = mdl.predict_proba(Xval)[:, 1]"
   ]
  },
  {
   "cell_type": "code",
   "execution_count": 20,
   "metadata": {},
   "outputs": [],
   "source": [
    "from sklearn.metrics import roc_auc_score, average_precision_score"
   ]
  },
  {
   "cell_type": "code",
   "execution_count": 22,
   "metadata": {},
   "outputs": [
    {
     "data": {
      "text/plain": [
       "0.47954419156817363"
      ]
     },
     "execution_count": 22,
     "metadata": {},
     "output_type": "execute_result"
    }
   ],
   "source": [
    "average_precision_score(Yval, p)"
   ]
  },
  {
   "cell_type": "code",
   "execution_count": 24,
   "metadata": {},
   "outputs": [
    {
     "data": {
      "text/plain": [
       "0.4989657248251658"
      ]
     },
     "execution_count": 24,
     "metadata": {},
     "output_type": "execute_result"
    }
   ],
   "source": [
    "roc_auc_score(Yval, p)"
   ]
  },
  {
   "cell_type": "code",
   "execution_count": 25,
   "metadata": {},
   "outputs": [],
   "source": [
    "from sklearn.tree import plot_tree"
   ]
  },
  {
   "cell_type": "code",
   "execution_count": 28,
   "metadata": {},
   "outputs": [
    {
     "data": {
      "text/plain": [
       "[Text(279.0, 453.0, 'views_por_dia <= 0.001\\ngini = 0.5\\nsamples = 758\\nvalue = [379.0, 379.0]'),\n",
       " Text(139.5, 271.8, 'views_por_dia <= 0.001\\ngini = 0.49\\nsamples = 365\\nvalue = [217.164, 162.876]'),\n",
       " Text(69.75, 90.59999999999997, 'gini = 0.492\\nsamples = 353\\nvalue = [206.099, 159.744]'),\n",
       " Text(209.25, 90.59999999999997, 'gini = 0.344\\nsamples = 12\\nvalue = [11.066, 3.132]'),\n",
       " Text(418.5, 271.8, 'views <= 506.5\\ngini = 0.49\\nsamples = 393\\nvalue = [161.836, 216.124]'),\n",
       " Text(348.75, 90.59999999999997, 'gini = 0.482\\nsamples = 330\\nvalue = [127.255, 186.368]'),\n",
       " Text(488.25, 90.59999999999997, 'gini = 0.497\\nsamples = 63\\nvalue = [34.58, 29.756]')]"
      ]
     },
     "execution_count": 28,
     "metadata": {},
     "output_type": "execute_result"
    },
    {
     "data": {
      "image/png": "[encoded data removed]",
      "text/plain": [
       "<Figure size 720x720 with 1 Axes>"
      ]
     },
     "metadata": {
      "needs_background": "light"
     },
     "output_type": "display_data"
    }
   ],
   "source": [
    "fig, ax = pylab.subplots(1,1, figsize=(10,10))\n",
    "plot_tree(mdl, ax=ax, feature_names=Xtrain.columns)"
   ]
  },
  {
   "cell_type": "markdown",
   "metadata": {},
   "source": [
    "# Transformar string em numero"
   ]
  },
  {
   "cell_type": "code",
   "execution_count": 30,
   "metadata": {},
   "outputs": [],
   "source": [
    "df_limpo['title'] = df['title']"
   ]
  },
  {
   "cell_type": "code",
   "execution_count": 78,
   "metadata": {},
   "outputs": [],
   "source": [
    "from sklearn.feature_extraction.text import TfidfVectorizer\n",
    "\n",
    "mask_train = df_limpo['upload_date'] < '2020-06-15'\n",
    "mask_val = df_limpo['upload_date'] >= '2020-06-15'\n",
    "\n",
    "title_train = df_limpo[mask_train]['title']\n",
    "title_val = df_limpo[mask_val]['title']\n",
    "\n",
    "title_vec = TfidfVectorizer(min_df=2)\n",
    "\n",
    "title_bow_train = title_vec.fit_transform(title_train)\n",
    "title_bow_val = title_vec.transform(title_val)\n"
   ]
  },
  {
   "cell_type": "code",
   "execution_count": 79,
   "metadata": {},
   "outputs": [
    {
     "data": {
      "text/plain": [
       "((758, 635), (791, 635))"
      ]
     },
     "execution_count": 79,
     "metadata": {},
     "output_type": "execute_result"
    }
   ],
   "source": [
    "title_bow_train.shape, title_bow_val.shape"
   ]
  },
  {
   "cell_type": "code",
   "execution_count": 80,
   "metadata": {},
   "outputs": [
    {
     "data": {
      "text/plain": [
       "((758, 637), (791, 637))"
      ]
     },
     "execution_count": 80,
     "metadata": {},
     "output_type": "execute_result"
    }
   ],
   "source": [
    "from scipy.sparse import hstack, vstack\n",
    "\n",
    "Xtrain_wtitle = hstack([Xtrain, title_bow_train])\n",
    "Xval_wtitle = hstack([Xval, title_bow_val])\n",
    "\n",
    "Xtrain_wtitle.shape, Xval_wtitle.shape"
   ]
  },
  {
   "cell_type": "code",
   "execution_count": 81,
   "metadata": {},
   "outputs": [
    {
     "data": {
      "text/plain": [
       "RandomForestClassifier(class_weight='balanced', n_estimators=1000, n_jobs=8,\n",
       "                       random_state=0)"
      ]
     },
     "execution_count": 81,
     "metadata": {},
     "output_type": "execute_result"
    }
   ],
   "source": [
    "mdl = RandomForestClassifier(n_estimators=1000, random_state=0, class_weight='balanced', n_jobs=8)\n",
    "mdl.fit(Xtrain_wtitle, Ytrain)"
   ]
  },
  {
   "cell_type": "code",
   "execution_count": 82,
   "metadata": {},
   "outputs": [],
   "source": [
    "p = mdl.predict_proba(Xval_wtitle)[:, 1]"
   ]
  },
  {
   "cell_type": "code",
   "execution_count": 83,
   "metadata": {},
   "outputs": [
    {
     "data": {
      "text/plain": [
       "0.5831440438538069"
      ]
     },
     "execution_count": 83,
     "metadata": {},
     "output_type": "execute_result"
    }
   ],
   "source": [
    "average_precision_score(Yval, p)"
   ]
  },
  {
   "cell_type": "code",
   "execution_count": 84,
   "metadata": {},
   "outputs": [
    {
     "data": {
      "text/plain": [
       "0.614750108871071"
      ]
     },
     "execution_count": 84,
     "metadata": {},
     "output_type": "execute_result"
    }
   ],
   "source": [
    "roc_auc_score(Yval, p)"
   ]
  },
  {
   "cell_type": "code",
   "execution_count": 85,
   "metadata": {},
   "outputs": [],
   "source": [
    "# RF\n",
    "# ap 0.5831440438538069, auc 0.614750108871071 - mindf=2 # este é melhor\n",
    "# ap 0.5798770009195482, auc 0.6143626559417987 - mindf=1\n",
    "# ap 0.5776827154868773, auc 0.6044778031098701 - mindf=3"
   ]
  },
  {
   "cell_type": "markdown",
   "metadata": {},
   "source": [
    "# ACTIVE LEARNING"
   ]
  },
  {
   "cell_type": "code",
   "execution_count": 86,
   "metadata": {},
   "outputs": [],
   "source": [
    "# Vamos melhorar o modelo para os exemplos aonde as previsoes \n",
    "# estao na duvida, por exemplo:\n",
    "#\n",
    "# aonde a previsao, que deveria ser 0 ou 1 está entre 0.4 e 0.6\n",
    "#\n",
    "#\n",
    "# um detalhe importante... era para ter deixado alguns registros \n",
    "# sem o valor 0 e 1 e nao serem utilizados na modelagem inicial,\n",
    "# mas nao tem problemas... vamos seguir assim mesmo que nao tem erro."
   ]
  },
  {
   "cell_type": "code",
   "execution_count": 88,
   "metadata": {},
   "outputs": [
    {
     "data": {
      "text/plain": [
       "(1549, 15)"
      ]
     },
     "execution_count": 88,
     "metadata": {},
     "output_type": "execute_result"
    }
   ],
   "source": [
    "df_unlabeled = pd.read_csv('raw_data_com_labels.csv', index_col=0, delimiter=';')\n",
    "df_unlabeled.shape"
   ]
  },
  {
   "cell_type": "code",
   "execution_count": 93,
   "metadata": {},
   "outputs": [
    {
     "data": {
      "text/plain": [
       "title               object\n",
       "p                    int64\n",
       "view_count           int64\n",
       "description         object\n",
       "uploader            object\n",
       "upload_date         object\n",
       "categories          object\n",
       "tags                object\n",
       "duration           float64\n",
       "webpage_url         object\n",
       "like_count         float64\n",
       "average_rating      object\n",
       "query               object\n",
       "tempo_desde_pub    float64\n",
       "thumbnail           object\n",
       "dtype: object"
      ]
     },
     "execution_count": 93,
     "metadata": {},
     "output_type": "execute_result"
    }
   ],
   "source": [
    "df_unlabeled.dtypes"
   ]
  },
  {
   "cell_type": "code",
   "execution_count": 94,
   "metadata": {},
   "outputs": [
    {
     "data": {
      "text/html": [
       "<div>\n",
       "<style scoped>\n",
       "    .dataframe tbody tr th:only-of-type {\n",
       "        vertical-align: middle;\n",
       "    }\n",
       "\n",
       "    .dataframe tbody tr th {\n",
       "        vertical-align: top;\n",
       "    }\n",
       "\n",
       "    .dataframe thead th {\n",
       "        text-align: right;\n",
       "    }\n",
       "</style>\n",
       "<table border=\"1\" class=\"dataframe\">\n",
       "  <thead>\n",
       "    <tr style=\"text-align: right;\">\n",
       "      <th></th>\n",
       "      <th>title</th>\n",
       "      <th>upload_date</th>\n",
       "    </tr>\n",
       "  </thead>\n",
       "  <tbody>\n",
       "    <tr>\n",
       "      <th>0</th>\n",
       "      <td>Introduction to Machine Learning | Ù…Ù‚Ø¯Ù…Ø© ...</td>\n",
       "      <td>2021-01-01</td>\n",
       "    </tr>\n",
       "    <tr>\n",
       "      <th>1</th>\n",
       "      <td>Zero Python &amp; Machine Learning Experience to D...</td>\n",
       "      <td>2021-01-01</td>\n",
       "    </tr>\n",
       "    <tr>\n",
       "      <th>2</th>\n",
       "      <td>Mario I/O Machine Learning For Games</td>\n",
       "      <td>2021-01-01</td>\n",
       "    </tr>\n",
       "    <tr>\n",
       "      <th>3</th>\n",
       "      <td>Model Evaluation Tutorial | Machine Learning (...</td>\n",
       "      <td>2021-01-01</td>\n",
       "    </tr>\n",
       "    <tr>\n",
       "      <th>4</th>\n",
       "      <td>Online Certified Winter Training in Machine Le...</td>\n",
       "      <td>2021-01-01</td>\n",
       "    </tr>\n",
       "  </tbody>\n",
       "</table>\n",
       "</div>"
      ],
      "text/plain": [
       "                                               title upload_date\n",
       "0  Introduction to Machine Learning | Ù…Ù‚Ø¯Ù…Ø© ...  2021-01-01\n",
       "1  Zero Python & Machine Learning Experience to D...  2021-01-01\n",
       "2               Mario I/O Machine Learning For Games  2021-01-01\n",
       "3  Model Evaluation Tutorial | Machine Learning (...  2021-01-01\n",
       "4  Online Certified Winter Training in Machine Le...  2021-01-01"
      ]
     },
     "execution_count": 94,
     "metadata": {},
     "output_type": "execute_result"
    }
   ],
   "source": [
    "df_limpo_u = pd.DataFrame(index=df_unlabeled.index)\n",
    "df_limpo_u['title'] = df_unlabeled['title']\n",
    "df_limpo_u['upload_date'] = df_unlabeled['upload_date']\n",
    "df_limpo_u.head()"
   ]
  },
  {
   "cell_type": "code",
   "execution_count": 95,
   "metadata": {},
   "outputs": [
    {
     "data": {
      "text/html": [
       "<div>\n",
       "<style scoped>\n",
       "    .dataframe tbody tr th:only-of-type {\n",
       "        vertical-align: middle;\n",
       "    }\n",
       "\n",
       "    .dataframe tbody tr th {\n",
       "        vertical-align: top;\n",
       "    }\n",
       "\n",
       "    .dataframe thead th {\n",
       "        text-align: right;\n",
       "    }\n",
       "</style>\n",
       "<table border=\"1\" class=\"dataframe\">\n",
       "  <thead>\n",
       "    <tr style=\"text-align: right;\">\n",
       "      <th></th>\n",
       "      <th>title</th>\n",
       "      <th>upload_date</th>\n",
       "      <th>view_count</th>\n",
       "    </tr>\n",
       "  </thead>\n",
       "  <tbody>\n",
       "    <tr>\n",
       "      <th>0</th>\n",
       "      <td>Introduction to Machine Learning | Ù…Ù‚Ø¯Ù…Ø© ...</td>\n",
       "      <td>2021-01-01</td>\n",
       "      <td>128</td>\n",
       "    </tr>\n",
       "    <tr>\n",
       "      <th>1</th>\n",
       "      <td>Zero Python &amp; Machine Learning Experience to D...</td>\n",
       "      <td>2021-01-01</td>\n",
       "      <td>1</td>\n",
       "    </tr>\n",
       "    <tr>\n",
       "      <th>2</th>\n",
       "      <td>Mario I/O Machine Learning For Games</td>\n",
       "      <td>2021-01-01</td>\n",
       "      <td>1</td>\n",
       "    </tr>\n",
       "    <tr>\n",
       "      <th>3</th>\n",
       "      <td>Model Evaluation Tutorial | Machine Learning (...</td>\n",
       "      <td>2021-01-01</td>\n",
       "      <td>13</td>\n",
       "    </tr>\n",
       "    <tr>\n",
       "      <th>4</th>\n",
       "      <td>Online Certified Winter Training in Machine Le...</td>\n",
       "      <td>2021-01-01</td>\n",
       "      <td>98</td>\n",
       "    </tr>\n",
       "  </tbody>\n",
       "</table>\n",
       "</div>"
      ],
      "text/plain": [
       "                                               title upload_date  view_count\n",
       "0  Introduction to Machine Learning | Ù…Ù‚Ø¯Ù…Ø© ...  2021-01-01         128\n",
       "1  Zero Python & Machine Learning Experience to D...  2021-01-01           1\n",
       "2               Mario I/O Machine Learning For Games  2021-01-01           1\n",
       "3  Model Evaluation Tutorial | Machine Learning (...  2021-01-01          13\n",
       "4  Online Certified Winter Training in Machine Le...  2021-01-01          98"
      ]
     },
     "execution_count": 95,
     "metadata": {},
     "output_type": "execute_result"
    }
   ],
   "source": [
    "df_limpo_u['view_count'] = df_unlabeled['view_count']\n",
    "df_limpo_u.head()"
   ]
  },
  {
   "cell_type": "code",
   "execution_count": 97,
   "metadata": {},
   "outputs": [
    {
     "data": {
      "text/html": [
       "<div>\n",
       "<style scoped>\n",
       "    .dataframe tbody tr th:only-of-type {\n",
       "        vertical-align: middle;\n",
       "    }\n",
       "\n",
       "    .dataframe tbody tr th {\n",
       "        vertical-align: top;\n",
       "    }\n",
       "\n",
       "    .dataframe thead th {\n",
       "        text-align: right;\n",
       "    }\n",
       "</style>\n",
       "<table border=\"1\" class=\"dataframe\">\n",
       "  <thead>\n",
       "    <tr style=\"text-align: right;\">\n",
       "      <th></th>\n",
       "      <th>views</th>\n",
       "      <th>views_por_dia</th>\n",
       "    </tr>\n",
       "  </thead>\n",
       "  <tbody>\n",
       "    <tr>\n",
       "      <th>0</th>\n",
       "      <td>128</td>\n",
       "      <td>0.004436</td>\n",
       "    </tr>\n",
       "    <tr>\n",
       "      <th>1</th>\n",
       "      <td>1</td>\n",
       "      <td>0.000035</td>\n",
       "    </tr>\n",
       "    <tr>\n",
       "      <th>2</th>\n",
       "      <td>1</td>\n",
       "      <td>0.000035</td>\n",
       "    </tr>\n",
       "    <tr>\n",
       "      <th>3</th>\n",
       "      <td>13</td>\n",
       "      <td>0.000451</td>\n",
       "    </tr>\n",
       "    <tr>\n",
       "      <th>4</th>\n",
       "      <td>98</td>\n",
       "      <td>0.003397</td>\n",
       "    </tr>\n",
       "  </tbody>\n",
       "</table>\n",
       "</div>"
      ],
      "text/plain": [
       "   views  views_por_dia\n",
       "0    128       0.004436\n",
       "1      1       0.000035\n",
       "2      1       0.000035\n",
       "3     13       0.000451\n",
       "4     98       0.003397"
      ]
     },
     "execution_count": 97,
     "metadata": {},
     "output_type": "execute_result"
    }
   ],
   "source": [
    "features_u = pd.DataFrame(index=df_limpo_u.index)\n",
    "features_u['tempo_desde_pub'] = (pd.to_datetime(\"2099-12-31\")- pd.to_datetime(df_limpo_u[\"upload_date\"])) / np.timedelta64(1,'D')\n",
    "features_u['views'] = df_limpo_u['view_count']\n",
    "features_u['views_por_dia'] = features_u['views'] / features_u['tempo_desde_pub']\n",
    "features_u = features_u.drop(['tempo_desde_pub'], axis=1)\n",
    "features_u.head()"
   ]
  },
  {
   "cell_type": "code",
   "execution_count": 98,
   "metadata": {},
   "outputs": [],
   "source": [
    "#from sklearn.feature_extraction.text import TfidfVectorizer\n",
    "\n",
    "title_u = df_limpo_u['title']\n",
    "title_bow_u = title_vec.transform(title_u)"
   ]
  },
  {
   "cell_type": "code",
   "execution_count": 99,
   "metadata": {},
   "outputs": [
    {
     "data": {
      "text/plain": [
       "<1549x635 sparse matrix of type '<class 'numpy.float64'>'\n",
       "\twith 10463 stored elements in Compressed Sparse Row format>"
      ]
     },
     "execution_count": 99,
     "metadata": {},
     "output_type": "execute_result"
    }
   ],
   "source": [
    "title_bow_u"
   ]
  },
  {
   "cell_type": "code",
   "execution_count": 100,
   "metadata": {},
   "outputs": [
    {
     "data": {
      "text/plain": [
       "<1549x637 sparse matrix of type '<class 'numpy.float64'>'\n",
       "\twith 13551 stored elements in COOrdinate format>"
      ]
     },
     "execution_count": 100,
     "metadata": {},
     "output_type": "execute_result"
    }
   ],
   "source": [
    "Xu_wtitle = hstack([features_u, title_bow_u])\n",
    "Xu_wtitle"
   ]
  },
  {
   "cell_type": "code",
   "execution_count": 102,
   "metadata": {},
   "outputs": [],
   "source": [
    "pu = mdl.predict_proba(Xu_wtitle)[:, 1]"
   ]
  },
  {
   "cell_type": "code",
   "execution_count": 103,
   "metadata": {},
   "outputs": [
    {
     "data": {
      "text/html": [
       "<div>\n",
       "<style scoped>\n",
       "    .dataframe tbody tr th:only-of-type {\n",
       "        vertical-align: middle;\n",
       "    }\n",
       "\n",
       "    .dataframe tbody tr th {\n",
       "        vertical-align: top;\n",
       "    }\n",
       "\n",
       "    .dataframe thead th {\n",
       "        text-align: right;\n",
       "    }\n",
       "</style>\n",
       "<table border=\"1\" class=\"dataframe\">\n",
       "  <thead>\n",
       "    <tr style=\"text-align: right;\">\n",
       "      <th></th>\n",
       "      <th>title</th>\n",
       "      <th>p</th>\n",
       "      <th>view_count</th>\n",
       "      <th>description</th>\n",
       "      <th>uploader</th>\n",
       "      <th>upload_date</th>\n",
       "      <th>categories</th>\n",
       "      <th>tags</th>\n",
       "      <th>duration</th>\n",
       "      <th>webpage_url</th>\n",
       "      <th>like_count</th>\n",
       "      <th>average_rating</th>\n",
       "      <th>query</th>\n",
       "      <th>tempo_desde_pub</th>\n",
       "      <th>thumbnail</th>\n",
       "    </tr>\n",
       "  </thead>\n",
       "  <tbody>\n",
       "    <tr>\n",
       "      <th>0</th>\n",
       "      <td>Introduction to Machine Learning | Ù…Ù‚Ø¯Ù…Ø© ...</td>\n",
       "      <td>1</td>\n",
       "      <td>128</td>\n",
       "      <td>Ù„Ùˆ Ù„Ø³Ø© Ø¹Ù†Ø¯Ùƒ Ø§Ø³Ø¦Ù„Ø© Ø³Ø¨Ù‡Ù… ÙÙŠ ...</td>\n",
       "      <td>Deena Gergis</td>\n",
       "      <td>2021-01-01</td>\n",
       "      <td>['Education']</td>\n",
       "      <td>['Introduction to Machine Learning', 'Course',...</td>\n",
       "      <td>252.0</td>\n",
       "      <td>https://www.youtube.com/watch?v=SjsBGg1s0lo</td>\n",
       "      <td>29.0</td>\n",
       "      <td>5.0</td>\n",
       "      <td>machine+learning</td>\n",
       "      <td>28853.0</td>\n",
       "      <td>https://i.ytimg.com/vi_webp/SjsBGg1s0lo/maxres...</td>\n",
       "    </tr>\n",
       "    <tr>\n",
       "      <th>1</th>\n",
       "      <td>Zero Python &amp; Machine Learning Experience to D...</td>\n",
       "      <td>0</td>\n",
       "      <td>1</td>\n",
       "      <td>In less than 3 hours, this course will teach y...</td>\n",
       "      <td>Machine Learning by Python</td>\n",
       "      <td>2021-01-01</td>\n",
       "      <td>['Science &amp; Technology']</td>\n",
       "      <td>NaN</td>\n",
       "      <td>102.0</td>\n",
       "      <td>https://www.youtube.com/watch?v=KsP6gPc2lyw</td>\n",
       "      <td>3.0</td>\n",
       "      <td>5.0</td>\n",
       "      <td>machine+learning</td>\n",
       "      <td>28853.0</td>\n",
       "      <td>https://i.ytimg.com/vi_webp/KsP6gPc2lyw/maxres...</td>\n",
       "    </tr>\n",
       "    <tr>\n",
       "      <th>2</th>\n",
       "      <td>Mario I/O Machine Learning For Games</td>\n",
       "      <td>1</td>\n",
       "      <td>1</td>\n",
       "      <td>Subscribe : https://bit.ly/37Nv28i MarI/O is a...</td>\n",
       "      <td>Pro Gamer</td>\n",
       "      <td>2021-01-01</td>\n",
       "      <td>['Gaming']</td>\n",
       "      <td>['Super Mario World', 'Machine Learning', 'Neu...</td>\n",
       "      <td>342.0</td>\n",
       "      <td>https://www.youtube.com/watch?v=ZnGKJ2qE5Yw</td>\n",
       "      <td>NaN</td>\n",
       "      <td>NaN</td>\n",
       "      <td>machine+learning</td>\n",
       "      <td>28853.0</td>\n",
       "      <td>https://i.ytimg.com/vi_webp/ZnGKJ2qE5Yw/maxres...</td>\n",
       "    </tr>\n",
       "    <tr>\n",
       "      <th>3</th>\n",
       "      <td>Model Evaluation Tutorial | Machine Learning (...</td>\n",
       "      <td>1</td>\n",
       "      <td>13</td>\n",
       "      <td>Model Evaluation |</td>\n",
       "      <td>KONNEKSHIN</td>\n",
       "      <td>2021-01-01</td>\n",
       "      <td>['Education']</td>\n",
       "      <td>['Model Evaluation | Machine Learning (ML) | X...</td>\n",
       "      <td>1004.0</td>\n",
       "      <td>https://www.youtube.com/watch?v=57B37uJctso</td>\n",
       "      <td>2.0</td>\n",
       "      <td>5.0</td>\n",
       "      <td>machine+learning</td>\n",
       "      <td>28853.0</td>\n",
       "      <td>https://i.ytimg.com/vi/57B37uJctso/maxresdefau...</td>\n",
       "    </tr>\n",
       "    <tr>\n",
       "      <th>4</th>\n",
       "      <td>Online Certified Winter Training in Machine Le...</td>\n",
       "      <td>1</td>\n",
       "      <td>98</td>\n",
       "      <td>Reference Notes: 1) Decision tree on Iris Data...</td>\n",
       "      <td>Goeduhub Technologies</td>\n",
       "      <td>2021-01-01</td>\n",
       "      <td>['Education']</td>\n",
       "      <td>NaN</td>\n",
       "      <td>3348.0</td>\n",
       "      <td>https://www.youtube.com/watch?v=tolNACfneQE</td>\n",
       "      <td>12.0</td>\n",
       "      <td>5.0</td>\n",
       "      <td>machine+learning</td>\n",
       "      <td>28853.0</td>\n",
       "      <td>https://i.ytimg.com/vi/tolNACfneQE/maxresdefau...</td>\n",
       "    </tr>\n",
       "  </tbody>\n",
       "</table>\n",
       "</div>"
      ],
      "text/plain": [
       "                                               title  p  view_count  \\\n",
       "0  Introduction to Machine Learning | Ù…Ù‚Ø¯Ù…Ø© ...  1         128   \n",
       "1  Zero Python & Machine Learning Experience to D...  0           1   \n",
       "2               Mario I/O Machine Learning For Games  1           1   \n",
       "3  Model Evaluation Tutorial | Machine Learning (...  1          13   \n",
       "4  Online Certified Winter Training in Machine Le...  1          98   \n",
       "\n",
       "                                         description  \\\n",
       "0  Ù„Ùˆ Ù„Ø³Ø© Ø¹Ù†Ø¯Ùƒ Ø§Ø³Ø¦Ù„Ø© Ø³Ø¨Ù‡Ù… ÙÙŠ ...   \n",
       "1  In less than 3 hours, this course will teach y...   \n",
       "2  Subscribe : https://bit.ly/37Nv28i MarI/O is a...   \n",
       "3                                Model Evaluation |    \n",
       "4  Reference Notes: 1) Decision tree on Iris Data...   \n",
       "\n",
       "                     uploader upload_date                categories  \\\n",
       "0                Deena Gergis  2021-01-01             ['Education']   \n",
       "1  Machine Learning by Python  2021-01-01  ['Science & Technology']   \n",
       "2                   Pro Gamer  2021-01-01                ['Gaming']   \n",
       "3                  KONNEKSHIN  2021-01-01             ['Education']   \n",
       "4       Goeduhub Technologies  2021-01-01             ['Education']   \n",
       "\n",
       "                                                tags  duration  \\\n",
       "0  ['Introduction to Machine Learning', 'Course',...     252.0   \n",
       "1                                                NaN     102.0   \n",
       "2  ['Super Mario World', 'Machine Learning', 'Neu...     342.0   \n",
       "3  ['Model Evaluation | Machine Learning (ML) | X...    1004.0   \n",
       "4                                                NaN    3348.0   \n",
       "\n",
       "                                   webpage_url  like_count average_rating  \\\n",
       "0  https://www.youtube.com/watch?v=SjsBGg1s0lo        29.0            5.0   \n",
       "1  https://www.youtube.com/watch?v=KsP6gPc2lyw         3.0            5.0   \n",
       "2  https://www.youtube.com/watch?v=ZnGKJ2qE5Yw         NaN            NaN   \n",
       "3  https://www.youtube.com/watch?v=57B37uJctso         2.0            5.0   \n",
       "4  https://www.youtube.com/watch?v=tolNACfneQE        12.0            5.0   \n",
       "\n",
       "              query  tempo_desde_pub  \\\n",
       "0  machine+learning          28853.0   \n",
       "1  machine+learning          28853.0   \n",
       "2  machine+learning          28853.0   \n",
       "3  machine+learning          28853.0   \n",
       "4  machine+learning          28853.0   \n",
       "\n",
       "                                           thumbnail  \n",
       "0  https://i.ytimg.com/vi_webp/SjsBGg1s0lo/maxres...  \n",
       "1  https://i.ytimg.com/vi_webp/KsP6gPc2lyw/maxres...  \n",
       "2  https://i.ytimg.com/vi_webp/ZnGKJ2qE5Yw/maxres...  \n",
       "3  https://i.ytimg.com/vi/57B37uJctso/maxresdefau...  \n",
       "4  https://i.ytimg.com/vi/tolNACfneQE/maxresdefau...  "
      ]
     },
     "execution_count": 103,
     "metadata": {},
     "output_type": "execute_result"
    }
   ],
   "source": [
    "df_unlabeled.head()"
   ]
  },
  {
   "cell_type": "code",
   "execution_count": 104,
   "metadata": {},
   "outputs": [
    {
     "data": {
      "text/html": [
       "<div>\n",
       "<style scoped>\n",
       "    .dataframe tbody tr th:only-of-type {\n",
       "        vertical-align: middle;\n",
       "    }\n",
       "\n",
       "    .dataframe tbody tr th {\n",
       "        vertical-align: top;\n",
       "    }\n",
       "\n",
       "    .dataframe thead th {\n",
       "        text-align: right;\n",
       "    }\n",
       "</style>\n",
       "<table border=\"1\" class=\"dataframe\">\n",
       "  <thead>\n",
       "    <tr style=\"text-align: right;\">\n",
       "      <th></th>\n",
       "      <th>title</th>\n",
       "      <th>p</th>\n",
       "      <th>view_count</th>\n",
       "      <th>description</th>\n",
       "      <th>uploader</th>\n",
       "      <th>upload_date</th>\n",
       "      <th>categories</th>\n",
       "      <th>tags</th>\n",
       "      <th>duration</th>\n",
       "      <th>webpage_url</th>\n",
       "      <th>like_count</th>\n",
       "      <th>average_rating</th>\n",
       "      <th>query</th>\n",
       "      <th>tempo_desde_pub</th>\n",
       "      <th>thumbnail</th>\n",
       "      <th>p1</th>\n",
       "    </tr>\n",
       "  </thead>\n",
       "  <tbody>\n",
       "    <tr>\n",
       "      <th>0</th>\n",
       "      <td>Introduction to Machine Learning | Ù…Ù‚Ø¯Ù…Ø© ...</td>\n",
       "      <td>1</td>\n",
       "      <td>128</td>\n",
       "      <td>Ù„Ùˆ Ù„Ø³Ø© Ø¹Ù†Ø¯Ùƒ Ø§Ø³Ø¦Ù„Ø© Ø³Ø¨Ù‡Ù… ÙÙŠ ...</td>\n",
       "      <td>Deena Gergis</td>\n",
       "      <td>2021-01-01</td>\n",
       "      <td>['Education']</td>\n",
       "      <td>['Introduction to Machine Learning', 'Course',...</td>\n",
       "      <td>252.0</td>\n",
       "      <td>https://www.youtube.com/watch?v=SjsBGg1s0lo</td>\n",
       "      <td>29.0</td>\n",
       "      <td>5.0</td>\n",
       "      <td>machine+learning</td>\n",
       "      <td>28853.0</td>\n",
       "      <td>https://i.ytimg.com/vi_webp/SjsBGg1s0lo/maxres...</td>\n",
       "      <td>0.871000</td>\n",
       "    </tr>\n",
       "    <tr>\n",
       "      <th>1</th>\n",
       "      <td>Zero Python &amp; Machine Learning Experience to D...</td>\n",
       "      <td>0</td>\n",
       "      <td>1</td>\n",
       "      <td>In less than 3 hours, this course will teach y...</td>\n",
       "      <td>Machine Learning by Python</td>\n",
       "      <td>2021-01-01</td>\n",
       "      <td>['Science &amp; Technology']</td>\n",
       "      <td>NaN</td>\n",
       "      <td>102.0</td>\n",
       "      <td>https://www.youtube.com/watch?v=KsP6gPc2lyw</td>\n",
       "      <td>3.0</td>\n",
       "      <td>5.0</td>\n",
       "      <td>machine+learning</td>\n",
       "      <td>28853.0</td>\n",
       "      <td>https://i.ytimg.com/vi_webp/KsP6gPc2lyw/maxres...</td>\n",
       "      <td>0.599159</td>\n",
       "    </tr>\n",
       "    <tr>\n",
       "      <th>2</th>\n",
       "      <td>Mario I/O Machine Learning For Games</td>\n",
       "      <td>1</td>\n",
       "      <td>1</td>\n",
       "      <td>Subscribe : https://bit.ly/37Nv28i MarI/O is a...</td>\n",
       "      <td>Pro Gamer</td>\n",
       "      <td>2021-01-01</td>\n",
       "      <td>['Gaming']</td>\n",
       "      <td>['Super Mario World', 'Machine Learning', 'Neu...</td>\n",
       "      <td>342.0</td>\n",
       "      <td>https://www.youtube.com/watch?v=ZnGKJ2qE5Yw</td>\n",
       "      <td>NaN</td>\n",
       "      <td>NaN</td>\n",
       "      <td>machine+learning</td>\n",
       "      <td>28853.0</td>\n",
       "      <td>https://i.ytimg.com/vi_webp/ZnGKJ2qE5Yw/maxres...</td>\n",
       "      <td>0.640000</td>\n",
       "    </tr>\n",
       "    <tr>\n",
       "      <th>3</th>\n",
       "      <td>Model Evaluation Tutorial | Machine Learning (...</td>\n",
       "      <td>1</td>\n",
       "      <td>13</td>\n",
       "      <td>Model Evaluation |</td>\n",
       "      <td>KONNEKSHIN</td>\n",
       "      <td>2021-01-01</td>\n",
       "      <td>['Education']</td>\n",
       "      <td>['Model Evaluation | Machine Learning (ML) | X...</td>\n",
       "      <td>1004.0</td>\n",
       "      <td>https://www.youtube.com/watch?v=57B37uJctso</td>\n",
       "      <td>2.0</td>\n",
       "      <td>5.0</td>\n",
       "      <td>machine+learning</td>\n",
       "      <td>28853.0</td>\n",
       "      <td>https://i.ytimg.com/vi/57B37uJctso/maxresdefau...</td>\n",
       "      <td>0.658000</td>\n",
       "    </tr>\n",
       "    <tr>\n",
       "      <th>4</th>\n",
       "      <td>Online Certified Winter Training in Machine Le...</td>\n",
       "      <td>1</td>\n",
       "      <td>98</td>\n",
       "      <td>Reference Notes: 1) Decision tree on Iris Data...</td>\n",
       "      <td>Goeduhub Technologies</td>\n",
       "      <td>2021-01-01</td>\n",
       "      <td>['Education']</td>\n",
       "      <td>NaN</td>\n",
       "      <td>3348.0</td>\n",
       "      <td>https://www.youtube.com/watch?v=tolNACfneQE</td>\n",
       "      <td>12.0</td>\n",
       "      <td>5.0</td>\n",
       "      <td>machine+learning</td>\n",
       "      <td>28853.0</td>\n",
       "      <td>https://i.ytimg.com/vi/tolNACfneQE/maxresdefau...</td>\n",
       "      <td>0.871000</td>\n",
       "    </tr>\n",
       "  </tbody>\n",
       "</table>\n",
       "</div>"
      ],
      "text/plain": [
       "                                               title  p  view_count  \\\n",
       "0  Introduction to Machine Learning | Ù…Ù‚Ø¯Ù…Ø© ...  1         128   \n",
       "1  Zero Python & Machine Learning Experience to D...  0           1   \n",
       "2               Mario I/O Machine Learning For Games  1           1   \n",
       "3  Model Evaluation Tutorial | Machine Learning (...  1          13   \n",
       "4  Online Certified Winter Training in Machine Le...  1          98   \n",
       "\n",
       "                                         description  \\\n",
       "0  Ù„Ùˆ Ù„Ø³Ø© Ø¹Ù†Ø¯Ùƒ Ø§Ø³Ø¦Ù„Ø© Ø³Ø¨Ù‡Ù… ÙÙŠ ...   \n",
       "1  In less than 3 hours, this course will teach y...   \n",
       "2  Subscribe : https://bit.ly/37Nv28i MarI/O is a...   \n",
       "3                                Model Evaluation |    \n",
       "4  Reference Notes: 1) Decision tree on Iris Data...   \n",
       "\n",
       "                     uploader upload_date                categories  \\\n",
       "0                Deena Gergis  2021-01-01             ['Education']   \n",
       "1  Machine Learning by Python  2021-01-01  ['Science & Technology']   \n",
       "2                   Pro Gamer  2021-01-01                ['Gaming']   \n",
       "3                  KONNEKSHIN  2021-01-01             ['Education']   \n",
       "4       Goeduhub Technologies  2021-01-01             ['Education']   \n",
       "\n",
       "                                                tags  duration  \\\n",
       "0  ['Introduction to Machine Learning', 'Course',...     252.0   \n",
       "1                                                NaN     102.0   \n",
       "2  ['Super Mario World', 'Machine Learning', 'Neu...     342.0   \n",
       "3  ['Model Evaluation | Machine Learning (ML) | X...    1004.0   \n",
       "4                                                NaN    3348.0   \n",
       "\n",
       "                                   webpage_url  like_count average_rating  \\\n",
       "0  https://www.youtube.com/watch?v=SjsBGg1s0lo        29.0            5.0   \n",
       "1  https://www.youtube.com/watch?v=KsP6gPc2lyw         3.0            5.0   \n",
       "2  https://www.youtube.com/watch?v=ZnGKJ2qE5Yw         NaN            NaN   \n",
       "3  https://www.youtube.com/watch?v=57B37uJctso         2.0            5.0   \n",
       "4  https://www.youtube.com/watch?v=tolNACfneQE        12.0            5.0   \n",
       "\n",
       "              query  tempo_desde_pub  \\\n",
       "0  machine+learning          28853.0   \n",
       "1  machine+learning          28853.0   \n",
       "2  machine+learning          28853.0   \n",
       "3  machine+learning          28853.0   \n",
       "4  machine+learning          28853.0   \n",
       "\n",
       "                                           thumbnail        p1  \n",
       "0  https://i.ytimg.com/vi_webp/SjsBGg1s0lo/maxres...  0.871000  \n",
       "1  https://i.ytimg.com/vi_webp/KsP6gPc2lyw/maxres...  0.599159  \n",
       "2  https://i.ytimg.com/vi_webp/ZnGKJ2qE5Yw/maxres...  0.640000  \n",
       "3  https://i.ytimg.com/vi/57B37uJctso/maxresdefau...  0.658000  \n",
       "4  https://i.ytimg.com/vi/tolNACfneQE/maxresdefau...  0.871000  "
      ]
     },
     "execution_count": 104,
     "metadata": {},
     "output_type": "execute_result"
    }
   ],
   "source": [
    "df_unlabeled['p1'] = pu\n",
    "df_unlabeled.head()"
   ]
  },
  {
   "cell_type": "code",
   "execution_count": 109,
   "metadata": {},
   "outputs": [
    {
     "data": {
      "text/plain": [
       "265"
      ]
     },
     "execution_count": 109,
     "metadata": {},
     "output_type": "execute_result"
    }
   ],
   "source": [
    "mask_u = (df_unlabeled['p1'] >= 0.4) & (df_unlabeled['p1'] <= 0.6)\n",
    "mask_u.sum()"
   ]
  },
  {
   "cell_type": "code",
   "execution_count": 110,
   "metadata": {
    "scrolled": true
   },
   "outputs": [
    {
     "data": {
      "text/html": [
       "<div>\n",
       "<style scoped>\n",
       "    .dataframe tbody tr th:only-of-type {\n",
       "        vertical-align: middle;\n",
       "    }\n",
       "\n",
       "    .dataframe tbody tr th {\n",
       "        vertical-align: top;\n",
       "    }\n",
       "\n",
       "    .dataframe thead th {\n",
       "        text-align: right;\n",
       "    }\n",
       "</style>\n",
       "<table border=\"1\" class=\"dataframe\">\n",
       "  <thead>\n",
       "    <tr style=\"text-align: right;\">\n",
       "      <th></th>\n",
       "      <th>title</th>\n",
       "      <th>p</th>\n",
       "      <th>view_count</th>\n",
       "      <th>description</th>\n",
       "      <th>uploader</th>\n",
       "      <th>upload_date</th>\n",
       "      <th>categories</th>\n",
       "      <th>tags</th>\n",
       "      <th>duration</th>\n",
       "      <th>webpage_url</th>\n",
       "      <th>like_count</th>\n",
       "      <th>average_rating</th>\n",
       "      <th>query</th>\n",
       "      <th>tempo_desde_pub</th>\n",
       "      <th>thumbnail</th>\n",
       "      <th>p1</th>\n",
       "    </tr>\n",
       "  </thead>\n",
       "  <tbody>\n",
       "    <tr>\n",
       "      <th>1</th>\n",
       "      <td>Zero Python &amp; Machine Learning Experience to D...</td>\n",
       "      <td>0</td>\n",
       "      <td>1</td>\n",
       "      <td>In less than 3 hours, this course will teach y...</td>\n",
       "      <td>Machine Learning by Python</td>\n",
       "      <td>2021-01-01</td>\n",
       "      <td>['Science &amp; Technology']</td>\n",
       "      <td>NaN</td>\n",
       "      <td>102.0</td>\n",
       "      <td>https://www.youtube.com/watch?v=KsP6gPc2lyw</td>\n",
       "      <td>3.0</td>\n",
       "      <td>5.0</td>\n",
       "      <td>machine+learning</td>\n",
       "      <td>28853.0</td>\n",
       "      <td>https://i.ytimg.com/vi_webp/KsP6gPc2lyw/maxres...</td>\n",
       "      <td>0.599159</td>\n",
       "    </tr>\n",
       "    <tr>\n",
       "      <th>8</th>\n",
       "      <td>[Kotlin Android Firebase 16+] EP.26 - Machine ...</td>\n",
       "      <td>0</td>\n",
       "      <td>27</td>\n",
       "      <td>This video is a lecture how to make an applica...</td>\n",
       "      <td>HOWLAB</td>\n",
       "      <td>2021-01-01</td>\n",
       "      <td>['Education']</td>\n",
       "      <td>['android', 'develop', 'application', 'kotlin'...</td>\n",
       "      <td>366.0</td>\n",
       "      <td>https://www.youtube.com/watch?v=EOa4y8RDmQc</td>\n",
       "      <td>2.0</td>\n",
       "      <td>5.0</td>\n",
       "      <td>machine+learning</td>\n",
       "      <td>28853.0</td>\n",
       "      <td>https://i.ytimg.com/vi/EOa4y8RDmQc/maxresdefau...</td>\n",
       "      <td>0.597000</td>\n",
       "    </tr>\n",
       "    <tr>\n",
       "      <th>13</th>\n",
       "      <td>Tomb Raider 3 FMV 1 Core logo (4K - AI Machine...</td>\n",
       "      <td>0</td>\n",
       "      <td>2</td>\n",
       "      <td>Original FMV Remastered using AI</td>\n",
       "      <td>Andy Jake</td>\n",
       "      <td>2021-01-01</td>\n",
       "      <td>['Gaming']</td>\n",
       "      <td>['Tomb Raider 3', 'Core logo', 'FMV', 'Remaste...</td>\n",
       "      <td>59.0</td>\n",
       "      <td>https://www.youtube.com/watch?v=VaajnJdcZ40</td>\n",
       "      <td>2.0</td>\n",
       "      <td>5.0</td>\n",
       "      <td>machine+learning</td>\n",
       "      <td>28853.0</td>\n",
       "      <td>https://i.ytimg.com/vi_webp/VaajnJdcZ40/maxres...</td>\n",
       "      <td>0.454000</td>\n",
       "    </tr>\n",
       "    <tr>\n",
       "      <th>19</th>\n",
       "      <td>How To Prepare Deep Learning In 2021 In Hindi-...</td>\n",
       "      <td>1</td>\n",
       "      <td>1</td>\n",
       "      <td>Complete DL Playlist: https://www.youtube.com/...</td>\n",
       "      <td>Krish Naik Vlogs</td>\n",
       "      <td>2020-12-31</td>\n",
       "      <td>['People &amp; Blogs']</td>\n",
       "      <td>NaN</td>\n",
       "      <td>631.0</td>\n",
       "      <td>https://www.youtube.com/watch?v=1uJgdDIAjsY</td>\n",
       "      <td>132.0</td>\n",
       "      <td>5.0</td>\n",
       "      <td>machine+learning</td>\n",
       "      <td>28854.0</td>\n",
       "      <td>https://i.ytimg.com/vi_webp/1uJgdDIAjsY/maxres...</td>\n",
       "      <td>0.574159</td>\n",
       "    </tr>\n",
       "    <tr>\n",
       "      <th>21</th>\n",
       "      <td>Lesson 27 â€“ Python Pandas DataFrames In Mach...</td>\n",
       "      <td>1</td>\n",
       "      <td>2</td>\n",
       "      <td>In this lesson I will show you how to use Data...</td>\n",
       "      <td>Robo Thoughts</td>\n",
       "      <td>2020-12-31</td>\n",
       "      <td>['Science &amp; Technology']</td>\n",
       "      <td>['Pandas', 'Educational Videos', 'Jetson Nano'...</td>\n",
       "      <td>329.0</td>\n",
       "      <td>https://www.youtube.com/watch?v=r4X_Pvwu1aE</td>\n",
       "      <td>NaN</td>\n",
       "      <td>NaN</td>\n",
       "      <td>machine+learning</td>\n",
       "      <td>28854.0</td>\n",
       "      <td>https://i.ytimg.com/vi/r4X_Pvwu1aE/hqdefault.j...</td>\n",
       "      <td>0.498000</td>\n",
       "    </tr>\n",
       "    <tr>\n",
       "      <th>...</th>\n",
       "      <td>...</td>\n",
       "      <td>...</td>\n",
       "      <td>...</td>\n",
       "      <td>...</td>\n",
       "      <td>...</td>\n",
       "      <td>...</td>\n",
       "      <td>...</td>\n",
       "      <td>...</td>\n",
       "      <td>...</td>\n",
       "      <td>...</td>\n",
       "      <td>...</td>\n",
       "      <td>...</td>\n",
       "      <td>...</td>\n",
       "      <td>...</td>\n",
       "      <td>...</td>\n",
       "      <td>...</td>\n",
       "    </tr>\n",
       "    <tr>\n",
       "      <th>1262</th>\n",
       "      <td>06.Ø´Ø±Ø­ Ø¬ÙˆØ¬Ù„ ÙƒÙˆÙ„Ø§Ø¨ | Google Colab :...</td>\n",
       "      <td>0</td>\n",
       "      <td>385</td>\n",
       "      <td>Ø§Ù„Ø³Ù„Ø§Ù… Ø¹Ù„ÙŠÙƒÙ… ÙŠØ§ Ø´Ø¨Ø§Ø¨ ÙÙ‰ Ø§Ù...</td>\n",
       "      <td>Karim Elgazar I ÙƒØ±ÙŠÙ… Ø§Ù„Ø¬Ø²Ø§Ø±</td>\n",
       "      <td>2020-06-24</td>\n",
       "      <td>['Education']</td>\n",
       "      <td>['Google colabs', 'colabs', 'tensorflow colabs...</td>\n",
       "      <td>958.0</td>\n",
       "      <td>https://www.youtube.com/watch?v=YEHCWyMU5Qs</td>\n",
       "      <td>17.0</td>\n",
       "      <td>5.0</td>\n",
       "      <td>kaggle</td>\n",
       "      <td>29044.0</td>\n",
       "      <td>https://i.ytimg.com/vi/YEHCWyMU5Qs/maxresdefau...</td>\n",
       "      <td>0.531000</td>\n",
       "    </tr>\n",
       "    <tr>\n",
       "      <th>1264</th>\n",
       "      <td>Getting Curious: What it takes to build a TPU ...</td>\n",
       "      <td>1</td>\n",
       "      <td>840</td>\n",
       "      <td>Have you ever wondered what kind of background...</td>\n",
       "      <td>Kaggle</td>\n",
       "      <td>2020-06-23</td>\n",
       "      <td>['Science &amp; Technology']</td>\n",
       "      <td>['Kaggle', 'Kaggel', 'coffee chat', 'live-codi...</td>\n",
       "      <td>438.0</td>\n",
       "      <td>https://www.youtube.com/watch?v=8WlhQ1ouWkU</td>\n",
       "      <td>39.0</td>\n",
       "      <td>5.0</td>\n",
       "      <td>kaggle</td>\n",
       "      <td>29045.0</td>\n",
       "      <td>https://i.ytimg.com/vi/8WlhQ1ouWkU/maxresdefau...</td>\n",
       "      <td>0.457000</td>\n",
       "    </tr>\n",
       "    <tr>\n",
       "      <th>1266</th>\n",
       "      <td>Kaggle Vs Real-world Projects</td>\n",
       "      <td>0</td>\n",
       "      <td>441</td>\n",
       "      <td>In this episode, I am going to cover the diffe...</td>\n",
       "      <td>ankitrathi.com</td>\n",
       "      <td>2020-06-23</td>\n",
       "      <td>['Science &amp; Technology']</td>\n",
       "      <td>['Data Science', 'Machine Learning', 'Artifici...</td>\n",
       "      <td>442.0</td>\n",
       "      <td>https://www.youtube.com/watch?v=IhGpuLFv4Ho</td>\n",
       "      <td>23.0</td>\n",
       "      <td>5.0</td>\n",
       "      <td>kaggle</td>\n",
       "      <td>29045.0</td>\n",
       "      <td>https://i.ytimg.com/vi/IhGpuLFv4Ho/maxresdefau...</td>\n",
       "      <td>0.566000</td>\n",
       "    </tr>\n",
       "    <tr>\n",
       "      <th>1267</th>\n",
       "      <td>Learn With Me: Getting Started with Tensor Pro...</td>\n",
       "      <td>0</td>\n",
       "      <td>11</td>\n",
       "      <td>I recently had the opportunity to sit down wit...</td>\n",
       "      <td>Kaggle</td>\n",
       "      <td>2020-06-22</td>\n",
       "      <td>['Science &amp; Technology']</td>\n",
       "      <td>['Kaggle', 'Kaggel', 'coffee chat', 'live-codi...</td>\n",
       "      <td>581.0</td>\n",
       "      <td>https://www.youtube.com/watch?v=1pdwRQ1DQfY</td>\n",
       "      <td>323.0</td>\n",
       "      <td>49.270.515</td>\n",
       "      <td>kaggle</td>\n",
       "      <td>29046.0</td>\n",
       "      <td>https://i.ytimg.com/vi/1pdwRQ1DQfY/maxresdefau...</td>\n",
       "      <td>0.547000</td>\n",
       "    </tr>\n",
       "    <tr>\n",
       "      <th>1270</th>\n",
       "      <td>How to import Kaggle data-set into Google Colab</td>\n",
       "      <td>1</td>\n",
       "      <td>907</td>\n",
       "      <td>Colab Notebook- https://colab.research.google....</td>\n",
       "      <td>AI-SPECIALS</td>\n",
       "      <td>2020-06-20</td>\n",
       "      <td>['People &amp; Blogs']</td>\n",
       "      <td>NaN</td>\n",
       "      <td>198.0</td>\n",
       "      <td>https://www.youtube.com/watch?v=T8xEQI8XXGs</td>\n",
       "      <td>17.0</td>\n",
       "      <td>47.777.777</td>\n",
       "      <td>kaggle</td>\n",
       "      <td>29048.0</td>\n",
       "      <td>https://i.ytimg.com/vi_webp/T8xEQI8XXGs/maxres...</td>\n",
       "      <td>0.573000</td>\n",
       "    </tr>\n",
       "  </tbody>\n",
       "</table>\n",
       "<p>265 rows × 16 columns</p>\n",
       "</div>"
      ],
      "text/plain": [
       "                                                  title  p  view_count  \\\n",
       "1     Zero Python & Machine Learning Experience to D...  0           1   \n",
       "8     [Kotlin Android Firebase 16+] EP.26 - Machine ...  0          27   \n",
       "13    Tomb Raider 3 FMV 1 Core logo (4K - AI Machine...  0           2   \n",
       "19    How To Prepare Deep Learning In 2021 In Hindi-...  1           1   \n",
       "21    Lesson 27 â€“ Python Pandas DataFrames In Mach...  1           2   \n",
       "...                                                 ... ..         ...   \n",
       "1262  06.Ø´Ø±Ø­ Ø¬ÙˆØ¬Ù„ ÙƒÙˆÙ„Ø§Ø¨ | Google Colab :...  0         385   \n",
       "1264  Getting Curious: What it takes to build a TPU ...  1         840   \n",
       "1266                      Kaggle Vs Real-world Projects  0         441   \n",
       "1267  Learn With Me: Getting Started with Tensor Pro...  0          11   \n",
       "1270    How to import Kaggle data-set into Google Colab  1         907   \n",
       "\n",
       "                                            description  \\\n",
       "1     In less than 3 hours, this course will teach y...   \n",
       "8     This video is a lecture how to make an applica...   \n",
       "13                    Original FMV Remastered using AI    \n",
       "19    Complete DL Playlist: https://www.youtube.com/...   \n",
       "21    In this lesson I will show you how to use Data...   \n",
       "...                                                 ...   \n",
       "1262  Ø§Ù„Ø³Ù„Ø§Ù… Ø¹Ù„ÙŠÙƒÙ… ÙŠØ§ Ø´Ø¨Ø§Ø¨ ÙÙ‰ Ø§Ù...   \n",
       "1264  Have you ever wondered what kind of background...   \n",
       "1266  In this episode, I am going to cover the diffe...   \n",
       "1267  I recently had the opportunity to sit down wit...   \n",
       "1270  Colab Notebook- https://colab.research.google....   \n",
       "\n",
       "                                   uploader upload_date  \\\n",
       "1                Machine Learning by Python  2021-01-01   \n",
       "8                                    HOWLAB  2021-01-01   \n",
       "13                                Andy Jake  2021-01-01   \n",
       "19                         Krish Naik Vlogs  2020-12-31   \n",
       "21                            Robo Thoughts  2020-12-31   \n",
       "...                                     ...         ...   \n",
       "1262  Karim Elgazar I ÙƒØ±ÙŠÙ… Ø§Ù„Ø¬Ø²Ø§Ø±  2020-06-24   \n",
       "1264                                 Kaggle  2020-06-23   \n",
       "1266                         ankitrathi.com  2020-06-23   \n",
       "1267                                 Kaggle  2020-06-22   \n",
       "1270                            AI-SPECIALS  2020-06-20   \n",
       "\n",
       "                    categories  \\\n",
       "1     ['Science & Technology']   \n",
       "8                ['Education']   \n",
       "13                  ['Gaming']   \n",
       "19          ['People & Blogs']   \n",
       "21    ['Science & Technology']   \n",
       "...                        ...   \n",
       "1262             ['Education']   \n",
       "1264  ['Science & Technology']   \n",
       "1266  ['Science & Technology']   \n",
       "1267  ['Science & Technology']   \n",
       "1270        ['People & Blogs']   \n",
       "\n",
       "                                                   tags  duration  \\\n",
       "1                                                   NaN     102.0   \n",
       "8     ['android', 'develop', 'application', 'kotlin'...     366.0   \n",
       "13    ['Tomb Raider 3', 'Core logo', 'FMV', 'Remaste...      59.0   \n",
       "19                                                  NaN     631.0   \n",
       "21    ['Pandas', 'Educational Videos', 'Jetson Nano'...     329.0   \n",
       "...                                                 ...       ...   \n",
       "1262  ['Google colabs', 'colabs', 'tensorflow colabs...     958.0   \n",
       "1264  ['Kaggle', 'Kaggel', 'coffee chat', 'live-codi...     438.0   \n",
       "1266  ['Data Science', 'Machine Learning', 'Artifici...     442.0   \n",
       "1267  ['Kaggle', 'Kaggel', 'coffee chat', 'live-codi...     581.0   \n",
       "1270                                                NaN     198.0   \n",
       "\n",
       "                                      webpage_url  like_count average_rating  \\\n",
       "1     https://www.youtube.com/watch?v=KsP6gPc2lyw         3.0            5.0   \n",
       "8     https://www.youtube.com/watch?v=EOa4y8RDmQc         2.0            5.0   \n",
       "13    https://www.youtube.com/watch?v=VaajnJdcZ40         2.0            5.0   \n",
       "19    https://www.youtube.com/watch?v=1uJgdDIAjsY       132.0            5.0   \n",
       "21    https://www.youtube.com/watch?v=r4X_Pvwu1aE         NaN            NaN   \n",
       "...                                           ...         ...            ...   \n",
       "1262  https://www.youtube.com/watch?v=YEHCWyMU5Qs        17.0            5.0   \n",
       "1264  https://www.youtube.com/watch?v=8WlhQ1ouWkU        39.0            5.0   \n",
       "1266  https://www.youtube.com/watch?v=IhGpuLFv4Ho        23.0            5.0   \n",
       "1267  https://www.youtube.com/watch?v=1pdwRQ1DQfY       323.0     49.270.515   \n",
       "1270  https://www.youtube.com/watch?v=T8xEQI8XXGs        17.0     47.777.777   \n",
       "\n",
       "                 query  tempo_desde_pub  \\\n",
       "1     machine+learning          28853.0   \n",
       "8     machine+learning          28853.0   \n",
       "13    machine+learning          28853.0   \n",
       "19    machine+learning          28854.0   \n",
       "21    machine+learning          28854.0   \n",
       "...                ...              ...   \n",
       "1262            kaggle          29044.0   \n",
       "1264            kaggle          29045.0   \n",
       "1266            kaggle          29045.0   \n",
       "1267            kaggle          29046.0   \n",
       "1270            kaggle          29048.0   \n",
       "\n",
       "                                              thumbnail        p1  \n",
       "1     https://i.ytimg.com/vi_webp/KsP6gPc2lyw/maxres...  0.599159  \n",
       "8     https://i.ytimg.com/vi/EOa4y8RDmQc/maxresdefau...  0.597000  \n",
       "13    https://i.ytimg.com/vi_webp/VaajnJdcZ40/maxres...  0.454000  \n",
       "19    https://i.ytimg.com/vi_webp/1uJgdDIAjsY/maxres...  0.574159  \n",
       "21    https://i.ytimg.com/vi/r4X_Pvwu1aE/hqdefault.j...  0.498000  \n",
       "...                                                 ...       ...  \n",
       "1262  https://i.ytimg.com/vi/YEHCWyMU5Qs/maxresdefau...  0.531000  \n",
       "1264  https://i.ytimg.com/vi/8WlhQ1ouWkU/maxresdefau...  0.457000  \n",
       "1266  https://i.ytimg.com/vi/IhGpuLFv4Ho/maxresdefau...  0.566000  \n",
       "1267  https://i.ytimg.com/vi/1pdwRQ1DQfY/maxresdefau...  0.547000  \n",
       "1270  https://i.ytimg.com/vi_webp/T8xEQI8XXGs/maxres...  0.573000  \n",
       "\n",
       "[265 rows x 16 columns]"
      ]
     },
     "execution_count": 110,
     "metadata": {},
     "output_type": "execute_result"
    }
   ],
   "source": [
    "df_unlabeled[mask_u]"
   ]
  },
  {
   "cell_type": "code",
   "execution_count": 111,
   "metadata": {},
   "outputs": [],
   "source": [
    "dificeis = df_unlabeled[mask_u]"
   ]
  },
  {
   "cell_type": "code",
   "execution_count": 119,
   "metadata": {},
   "outputs": [],
   "source": [
    "aleatorios = df_unlabeled[~mask_u].sample(115, random_state=0)"
   ]
  },
  {
   "cell_type": "code",
   "execution_count": 120,
   "metadata": {},
   "outputs": [],
   "source": [
    "pd.concat([dificeis, aleatorios]).to_csv('active_label1.csv')"
   ]
  },
  {
   "cell_type": "code",
   "execution_count": 121,
   "metadata": {},
   "outputs": [
    {
     "data": {
      "text/html": [
       "<div>\n",
       "<style scoped>\n",
       "    .dataframe tbody tr th:only-of-type {\n",
       "        vertical-align: middle;\n",
       "    }\n",
       "\n",
       "    .dataframe tbody tr th {\n",
       "        vertical-align: top;\n",
       "    }\n",
       "\n",
       "    .dataframe thead th {\n",
       "        text-align: right;\n",
       "    }\n",
       "</style>\n",
       "<table border=\"1\" class=\"dataframe\">\n",
       "  <thead>\n",
       "    <tr style=\"text-align: right;\">\n",
       "      <th></th>\n",
       "      <th>title</th>\n",
       "      <th>p</th>\n",
       "      <th>view_count</th>\n",
       "      <th>description</th>\n",
       "      <th>uploader</th>\n",
       "      <th>upload_date</th>\n",
       "      <th>categories</th>\n",
       "      <th>tags</th>\n",
       "      <th>duration</th>\n",
       "      <th>webpage_url</th>\n",
       "      <th>like_count</th>\n",
       "      <th>average_rating</th>\n",
       "      <th>query</th>\n",
       "      <th>tempo_desde_pub</th>\n",
       "      <th>thumbnail</th>\n",
       "      <th>p1</th>\n",
       "    </tr>\n",
       "  </thead>\n",
       "  <tbody>\n",
       "    <tr>\n",
       "      <th>1</th>\n",
       "      <td>Zero Python &amp; Machine Learning Experience to D...</td>\n",
       "      <td>0</td>\n",
       "      <td>1</td>\n",
       "      <td>In less than 3 hours, this course will teach y...</td>\n",
       "      <td>Machine Learning by Python</td>\n",
       "      <td>2021-01-01</td>\n",
       "      <td>['Science &amp; Technology']</td>\n",
       "      <td>NaN</td>\n",
       "      <td>102.0</td>\n",
       "      <td>https://www.youtube.com/watch?v=KsP6gPc2lyw</td>\n",
       "      <td>3.0</td>\n",
       "      <td>5.0</td>\n",
       "      <td>machine+learning</td>\n",
       "      <td>28853.0</td>\n",
       "      <td>https://i.ytimg.com/vi_webp/KsP6gPc2lyw/maxres...</td>\n",
       "      <td>0.599159</td>\n",
       "    </tr>\n",
       "    <tr>\n",
       "      <th>8</th>\n",
       "      <td>[Kotlin Android Firebase 16+] EP.26 - Machine ...</td>\n",
       "      <td>0</td>\n",
       "      <td>27</td>\n",
       "      <td>This video is a lecture how to make an applica...</td>\n",
       "      <td>HOWLAB</td>\n",
       "      <td>2021-01-01</td>\n",
       "      <td>['Education']</td>\n",
       "      <td>['android', 'develop', 'application', 'kotlin'...</td>\n",
       "      <td>366.0</td>\n",
       "      <td>https://www.youtube.com/watch?v=EOa4y8RDmQc</td>\n",
       "      <td>2.0</td>\n",
       "      <td>5.0</td>\n",
       "      <td>machine+learning</td>\n",
       "      <td>28853.0</td>\n",
       "      <td>https://i.ytimg.com/vi/EOa4y8RDmQc/maxresdefau...</td>\n",
       "      <td>0.597000</td>\n",
       "    </tr>\n",
       "    <tr>\n",
       "      <th>13</th>\n",
       "      <td>Tomb Raider 3 FMV 1 Core logo (4K - AI Machine...</td>\n",
       "      <td>0</td>\n",
       "      <td>2</td>\n",
       "      <td>Original FMV Remastered using AI</td>\n",
       "      <td>Andy Jake</td>\n",
       "      <td>2021-01-01</td>\n",
       "      <td>['Gaming']</td>\n",
       "      <td>['Tomb Raider 3', 'Core logo', 'FMV', 'Remaste...</td>\n",
       "      <td>59.0</td>\n",
       "      <td>https://www.youtube.com/watch?v=VaajnJdcZ40</td>\n",
       "      <td>2.0</td>\n",
       "      <td>5.0</td>\n",
       "      <td>machine+learning</td>\n",
       "      <td>28853.0</td>\n",
       "      <td>https://i.ytimg.com/vi_webp/VaajnJdcZ40/maxres...</td>\n",
       "      <td>0.454000</td>\n",
       "    </tr>\n",
       "    <tr>\n",
       "      <th>19</th>\n",
       "      <td>How To Prepare Deep Learning In 2021 In Hindi-...</td>\n",
       "      <td>1</td>\n",
       "      <td>1</td>\n",
       "      <td>Complete DL Playlist: https://www.youtube.com/...</td>\n",
       "      <td>Krish Naik Vlogs</td>\n",
       "      <td>2020-12-31</td>\n",
       "      <td>['People &amp; Blogs']</td>\n",
       "      <td>NaN</td>\n",
       "      <td>631.0</td>\n",
       "      <td>https://www.youtube.com/watch?v=1uJgdDIAjsY</td>\n",
       "      <td>132.0</td>\n",
       "      <td>5.0</td>\n",
       "      <td>machine+learning</td>\n",
       "      <td>28854.0</td>\n",
       "      <td>https://i.ytimg.com/vi_webp/1uJgdDIAjsY/maxres...</td>\n",
       "      <td>0.574159</td>\n",
       "    </tr>\n",
       "    <tr>\n",
       "      <th>21</th>\n",
       "      <td>Lesson 27 â€“ Python Pandas DataFrames In Mach...</td>\n",
       "      <td>1</td>\n",
       "      <td>2</td>\n",
       "      <td>In this lesson I will show you how to use Data...</td>\n",
       "      <td>Robo Thoughts</td>\n",
       "      <td>2020-12-31</td>\n",
       "      <td>['Science &amp; Technology']</td>\n",
       "      <td>['Pandas', 'Educational Videos', 'Jetson Nano'...</td>\n",
       "      <td>329.0</td>\n",
       "      <td>https://www.youtube.com/watch?v=r4X_Pvwu1aE</td>\n",
       "      <td>NaN</td>\n",
       "      <td>NaN</td>\n",
       "      <td>machine+learning</td>\n",
       "      <td>28854.0</td>\n",
       "      <td>https://i.ytimg.com/vi/r4X_Pvwu1aE/hqdefault.j...</td>\n",
       "      <td>0.498000</td>\n",
       "    </tr>\n",
       "  </tbody>\n",
       "</table>\n",
       "</div>"
      ],
      "text/plain": [
       "                                                title  p  view_count  \\\n",
       "1   Zero Python & Machine Learning Experience to D...  0           1   \n",
       "8   [Kotlin Android Firebase 16+] EP.26 - Machine ...  0          27   \n",
       "13  Tomb Raider 3 FMV 1 Core logo (4K - AI Machine...  0           2   \n",
       "19  How To Prepare Deep Learning In 2021 In Hindi-...  1           1   \n",
       "21  Lesson 27 â€“ Python Pandas DataFrames In Mach...  1           2   \n",
       "\n",
       "                                          description  \\\n",
       "1   In less than 3 hours, this course will teach y...   \n",
       "8   This video is a lecture how to make an applica...   \n",
       "13                  Original FMV Remastered using AI    \n",
       "19  Complete DL Playlist: https://www.youtube.com/...   \n",
       "21  In this lesson I will show you how to use Data...   \n",
       "\n",
       "                      uploader upload_date                categories  \\\n",
       "1   Machine Learning by Python  2021-01-01  ['Science & Technology']   \n",
       "8                       HOWLAB  2021-01-01             ['Education']   \n",
       "13                   Andy Jake  2021-01-01                ['Gaming']   \n",
       "19            Krish Naik Vlogs  2020-12-31        ['People & Blogs']   \n",
       "21               Robo Thoughts  2020-12-31  ['Science & Technology']   \n",
       "\n",
       "                                                 tags  duration  \\\n",
       "1                                                 NaN     102.0   \n",
       "8   ['android', 'develop', 'application', 'kotlin'...     366.0   \n",
       "13  ['Tomb Raider 3', 'Core logo', 'FMV', 'Remaste...      59.0   \n",
       "19                                                NaN     631.0   \n",
       "21  ['Pandas', 'Educational Videos', 'Jetson Nano'...     329.0   \n",
       "\n",
       "                                    webpage_url  like_count average_rating  \\\n",
       "1   https://www.youtube.com/watch?v=KsP6gPc2lyw         3.0            5.0   \n",
       "8   https://www.youtube.com/watch?v=EOa4y8RDmQc         2.0            5.0   \n",
       "13  https://www.youtube.com/watch?v=VaajnJdcZ40         2.0            5.0   \n",
       "19  https://www.youtube.com/watch?v=1uJgdDIAjsY       132.0            5.0   \n",
       "21  https://www.youtube.com/watch?v=r4X_Pvwu1aE         NaN            NaN   \n",
       "\n",
       "               query  tempo_desde_pub  \\\n",
       "1   machine+learning          28853.0   \n",
       "8   machine+learning          28853.0   \n",
       "13  machine+learning          28853.0   \n",
       "19  machine+learning          28854.0   \n",
       "21  machine+learning          28854.0   \n",
       "\n",
       "                                            thumbnail        p1  \n",
       "1   https://i.ytimg.com/vi_webp/KsP6gPc2lyw/maxres...  0.599159  \n",
       "8   https://i.ytimg.com/vi/EOa4y8RDmQc/maxresdefau...  0.597000  \n",
       "13  https://i.ytimg.com/vi_webp/VaajnJdcZ40/maxres...  0.454000  \n",
       "19  https://i.ytimg.com/vi_webp/1uJgdDIAjsY/maxres...  0.574159  \n",
       "21  https://i.ytimg.com/vi/r4X_Pvwu1aE/hqdefault.j...  0.498000  "
      ]
     },
     "execution_count": 121,
     "metadata": {},
     "output_type": "execute_result"
    }
   ],
   "source": [
    "dificeis.head()"
   ]
  },
  {
   "cell_type": "code",
   "execution_count": 122,
   "metadata": {},
   "outputs": [
    {
     "data": {
      "text/html": [
       "<div>\n",
       "<style scoped>\n",
       "    .dataframe tbody tr th:only-of-type {\n",
       "        vertical-align: middle;\n",
       "    }\n",
       "\n",
       "    .dataframe tbody tr th {\n",
       "        vertical-align: top;\n",
       "    }\n",
       "\n",
       "    .dataframe thead th {\n",
       "        text-align: right;\n",
       "    }\n",
       "</style>\n",
       "<table border=\"1\" class=\"dataframe\">\n",
       "  <thead>\n",
       "    <tr style=\"text-align: right;\">\n",
       "      <th></th>\n",
       "      <th>title</th>\n",
       "      <th>p</th>\n",
       "      <th>view_count</th>\n",
       "      <th>description</th>\n",
       "      <th>uploader</th>\n",
       "      <th>upload_date</th>\n",
       "      <th>categories</th>\n",
       "      <th>tags</th>\n",
       "      <th>duration</th>\n",
       "      <th>webpage_url</th>\n",
       "      <th>like_count</th>\n",
       "      <th>average_rating</th>\n",
       "      <th>query</th>\n",
       "      <th>tempo_desde_pub</th>\n",
       "      <th>thumbnail</th>\n",
       "      <th>p1</th>\n",
       "    </tr>\n",
       "  </thead>\n",
       "  <tbody>\n",
       "    <tr>\n",
       "      <th>1008</th>\n",
       "      <td>5 Ways Data Science Changed Finance</td>\n",
       "      <td>0</td>\n",
       "      <td>15</td>\n",
       "      <td>Download Our Free</td>\n",
       "      <td>365 Data Science</td>\n",
       "      <td>2020-01-22</td>\n",
       "      <td>['Education']</td>\n",
       "      <td>['365 data science', '5 ways data science is u...</td>\n",
       "      <td>775.0</td>\n",
       "      <td>https://www.youtube.com/watch?v=l_FGeEvqYyM</td>\n",
       "      <td>529.0</td>\n",
       "      <td>49.625.468</td>\n",
       "      <td>data+science</td>\n",
       "      <td>29198.0</td>\n",
       "      <td>https://i.ytimg.com/vi/l_FGeEvqYyM/hqdefault.j...</td>\n",
       "      <td>0.077</td>\n",
       "    </tr>\n",
       "    <tr>\n",
       "      <th>805</th>\n",
       "      <td>Top 5 Data Science Projects/Ideas For Your Res...</td>\n",
       "      <td>1</td>\n",
       "      <td>22</td>\n",
       "      <td>Here is a list of</td>\n",
       "      <td>Krish Naik</td>\n",
       "      <td>2020-09-20</td>\n",
       "      <td>['Education']</td>\n",
       "      <td>['Data science projects with source code', 'Da...</td>\n",
       "      <td>1314.0</td>\n",
       "      <td>https://www.youtube.com/watch?v=FNfBR7ZnyWo</td>\n",
       "      <td>1417.0</td>\n",
       "      <td>495.258</td>\n",
       "      <td>data+science</td>\n",
       "      <td>28956.0</td>\n",
       "      <td>https://i.ytimg.com/vi/FNfBR7ZnyWo/maxresdefau...</td>\n",
       "      <td>0.618</td>\n",
       "    </tr>\n",
       "    <tr>\n",
       "      <th>564</th>\n",
       "      <td>Machine Learning Tutorial Python - 8:  Logisti...</td>\n",
       "      <td>1</td>\n",
       "      <td>130</td>\n",
       "      <td>Logistic regression is used for classification...</td>\n",
       "      <td>codebasics</td>\n",
       "      <td>2018-09-07</td>\n",
       "      <td>['Education']</td>\n",
       "      <td>['logistic regression python tutorial', 'sklea...</td>\n",
       "      <td>1159.0</td>\n",
       "      <td>https://www.youtube.com/watch?v=zM4VZR0px8E</td>\n",
       "      <td>2025.0</td>\n",
       "      <td>49.054.966</td>\n",
       "      <td>machine+learning</td>\n",
       "      <td>29700.0</td>\n",
       "      <td>https://i.ytimg.com/vi_webp/zM4VZR0px8E/maxres...</td>\n",
       "      <td>0.995</td>\n",
       "    </tr>\n",
       "    <tr>\n",
       "      <th>266</th>\n",
       "      <td>Stock Market Prediction Using Machine Learning...</td>\n",
       "      <td>0</td>\n",
       "      <td>12</td>\n",
       "      <td>Stock Market prediction is an everyday use cas...</td>\n",
       "      <td>Simplilearn</td>\n",
       "      <td>2020-06-25</td>\n",
       "      <td>['Education']</td>\n",
       "      <td>['stock market prediction using machine learni...</td>\n",
       "      <td>2103.0</td>\n",
       "      <td>https://www.youtube.com/watch?v=OXwZtlcTiuk</td>\n",
       "      <td>333.0</td>\n",
       "      <td>49.176.469</td>\n",
       "      <td>machine+learning</td>\n",
       "      <td>29043.0</td>\n",
       "      <td>https://i.ytimg.com/vi/OXwZtlcTiuk/maxresdefau...</td>\n",
       "      <td>0.680</td>\n",
       "    </tr>\n",
       "    <tr>\n",
       "      <th>1505</th>\n",
       "      <td>statsprof - Searching for datasets and Kaggle</td>\n",
       "      <td>1</td>\n",
       "      <td>448</td>\n",
       "      <td>NaN</td>\n",
       "      <td>Sergio Garcia, PhD</td>\n",
       "      <td>2019-02-27</td>\n",
       "      <td>['Education']</td>\n",
       "      <td>NaN</td>\n",
       "      <td>805.0</td>\n",
       "      <td>https://www.youtube.com/watch?v=1n5Oef5CcOI</td>\n",
       "      <td>NaN</td>\n",
       "      <td>NaN</td>\n",
       "      <td>kaggle</td>\n",
       "      <td>29527.0</td>\n",
       "      <td>https://i.ytimg.com/vi_webp/1n5Oef5CcOI/maxres...</td>\n",
       "      <td>0.827</td>\n",
       "    </tr>\n",
       "  </tbody>\n",
       "</table>\n",
       "</div>"
      ],
      "text/plain": [
       "                                                  title  p  view_count  \\\n",
       "1008                5 Ways Data Science Changed Finance  0          15   \n",
       "805   Top 5 Data Science Projects/Ideas For Your Res...  1          22   \n",
       "564   Machine Learning Tutorial Python - 8:  Logisti...  1         130   \n",
       "266   Stock Market Prediction Using Machine Learning...  0          12   \n",
       "1505      statsprof - Searching for datasets and Kaggle  1         448   \n",
       "\n",
       "                                            description            uploader  \\\n",
       "1008                                 Download Our Free     365 Data Science   \n",
       "805                                  Here is a list of           Krish Naik   \n",
       "564   Logistic regression is used for classification...          codebasics   \n",
       "266   Stock Market prediction is an everyday use cas...         Simplilearn   \n",
       "1505                                                NaN  Sergio Garcia, PhD   \n",
       "\n",
       "     upload_date     categories  \\\n",
       "1008  2020-01-22  ['Education']   \n",
       "805   2020-09-20  ['Education']   \n",
       "564   2018-09-07  ['Education']   \n",
       "266   2020-06-25  ['Education']   \n",
       "1505  2019-02-27  ['Education']   \n",
       "\n",
       "                                                   tags  duration  \\\n",
       "1008  ['365 data science', '5 ways data science is u...     775.0   \n",
       "805   ['Data science projects with source code', 'Da...    1314.0   \n",
       "564   ['logistic regression python tutorial', 'sklea...    1159.0   \n",
       "266   ['stock market prediction using machine learni...    2103.0   \n",
       "1505                                                NaN     805.0   \n",
       "\n",
       "                                      webpage_url  like_count average_rating  \\\n",
       "1008  https://www.youtube.com/watch?v=l_FGeEvqYyM       529.0     49.625.468   \n",
       "805   https://www.youtube.com/watch?v=FNfBR7ZnyWo      1417.0        495.258   \n",
       "564   https://www.youtube.com/watch?v=zM4VZR0px8E      2025.0     49.054.966   \n",
       "266   https://www.youtube.com/watch?v=OXwZtlcTiuk       333.0     49.176.469   \n",
       "1505  https://www.youtube.com/watch?v=1n5Oef5CcOI         NaN            NaN   \n",
       "\n",
       "                 query  tempo_desde_pub  \\\n",
       "1008      data+science          29198.0   \n",
       "805       data+science          28956.0   \n",
       "564   machine+learning          29700.0   \n",
       "266   machine+learning          29043.0   \n",
       "1505            kaggle          29527.0   \n",
       "\n",
       "                                              thumbnail     p1  \n",
       "1008  https://i.ytimg.com/vi/l_FGeEvqYyM/hqdefault.j...  0.077  \n",
       "805   https://i.ytimg.com/vi/FNfBR7ZnyWo/maxresdefau...  0.618  \n",
       "564   https://i.ytimg.com/vi_webp/zM4VZR0px8E/maxres...  0.995  \n",
       "266   https://i.ytimg.com/vi/OXwZtlcTiuk/maxresdefau...  0.680  \n",
       "1505  https://i.ytimg.com/vi_webp/1n5Oef5CcOI/maxres...  0.827  "
      ]
     },
     "execution_count": 122,
     "metadata": {},
     "output_type": "execute_result"
    }
   ],
   "source": [
    "aleatorios.head()"
   ]
  },
  {
   "cell_type": "code",
   "execution_count": 123,
   "metadata": {},
   "outputs": [],
   "source": [
    "# nesta etapa iriamos preencher a nota destes videos com 0 ou 1\n",
    "# mas ja tinhamos preenchido... entao vida que segue!"
   ]
  },
  {
   "cell_type": "markdown",
   "metadata": {},
   "source": [
    "# Resultado do Active Learning"
   ]
  },
  {
   "cell_type": "code",
   "execution_count": 124,
   "metadata": {},
   "outputs": [],
   "source": [
    "df1 = pd.read_csv('raw_data_com_labels.csv', index_col=0, delimiter=';')"
   ]
  },
  {
   "cell_type": "code",
   "execution_count": 125,
   "metadata": {},
   "outputs": [
    {
     "data": {
      "text/html": [
       "<div>\n",
       "<style scoped>\n",
       "    .dataframe tbody tr th:only-of-type {\n",
       "        vertical-align: middle;\n",
       "    }\n",
       "\n",
       "    .dataframe tbody tr th {\n",
       "        vertical-align: top;\n",
       "    }\n",
       "\n",
       "    .dataframe thead th {\n",
       "        text-align: right;\n",
       "    }\n",
       "</style>\n",
       "<table border=\"1\" class=\"dataframe\">\n",
       "  <thead>\n",
       "    <tr style=\"text-align: right;\">\n",
       "      <th></th>\n",
       "      <th>title</th>\n",
       "      <th>p</th>\n",
       "      <th>view_count</th>\n",
       "      <th>description</th>\n",
       "      <th>uploader</th>\n",
       "      <th>upload_date</th>\n",
       "      <th>categories</th>\n",
       "      <th>tags</th>\n",
       "      <th>duration</th>\n",
       "      <th>webpage_url</th>\n",
       "      <th>like_count</th>\n",
       "      <th>average_rating</th>\n",
       "      <th>query</th>\n",
       "      <th>tempo_desde_pub</th>\n",
       "      <th>thumbnail</th>\n",
       "    </tr>\n",
       "  </thead>\n",
       "  <tbody>\n",
       "    <tr>\n",
       "      <th>0</th>\n",
       "      <td>Introduction to Machine Learning | Ù…Ù‚Ø¯Ù…Ø© ...</td>\n",
       "      <td>1</td>\n",
       "      <td>128</td>\n",
       "      <td>Ù„Ùˆ Ù„Ø³Ø© Ø¹Ù†Ø¯Ùƒ Ø§Ø³Ø¦Ù„Ø© Ø³Ø¨Ù‡Ù… ÙÙŠ ...</td>\n",
       "      <td>Deena Gergis</td>\n",
       "      <td>2021-01-01</td>\n",
       "      <td>['Education']</td>\n",
       "      <td>['Introduction to Machine Learning', 'Course',...</td>\n",
       "      <td>252.0</td>\n",
       "      <td>https://www.youtube.com/watch?v=SjsBGg1s0lo</td>\n",
       "      <td>29.0</td>\n",
       "      <td>5.0</td>\n",
       "      <td>machine+learning</td>\n",
       "      <td>28853.0</td>\n",
       "      <td>https://i.ytimg.com/vi_webp/SjsBGg1s0lo/maxres...</td>\n",
       "    </tr>\n",
       "    <tr>\n",
       "      <th>1</th>\n",
       "      <td>Zero Python &amp; Machine Learning Experience to D...</td>\n",
       "      <td>0</td>\n",
       "      <td>1</td>\n",
       "      <td>In less than 3 hours, this course will teach y...</td>\n",
       "      <td>Machine Learning by Python</td>\n",
       "      <td>2021-01-01</td>\n",
       "      <td>['Science &amp; Technology']</td>\n",
       "      <td>NaN</td>\n",
       "      <td>102.0</td>\n",
       "      <td>https://www.youtube.com/watch?v=KsP6gPc2lyw</td>\n",
       "      <td>3.0</td>\n",
       "      <td>5.0</td>\n",
       "      <td>machine+learning</td>\n",
       "      <td>28853.0</td>\n",
       "      <td>https://i.ytimg.com/vi_webp/KsP6gPc2lyw/maxres...</td>\n",
       "    </tr>\n",
       "    <tr>\n",
       "      <th>2</th>\n",
       "      <td>Mario I/O Machine Learning For Games</td>\n",
       "      <td>1</td>\n",
       "      <td>1</td>\n",
       "      <td>Subscribe : https://bit.ly/37Nv28i MarI/O is a...</td>\n",
       "      <td>Pro Gamer</td>\n",
       "      <td>2021-01-01</td>\n",
       "      <td>['Gaming']</td>\n",
       "      <td>['Super Mario World', 'Machine Learning', 'Neu...</td>\n",
       "      <td>342.0</td>\n",
       "      <td>https://www.youtube.com/watch?v=ZnGKJ2qE5Yw</td>\n",
       "      <td>NaN</td>\n",
       "      <td>NaN</td>\n",
       "      <td>machine+learning</td>\n",
       "      <td>28853.0</td>\n",
       "      <td>https://i.ytimg.com/vi_webp/ZnGKJ2qE5Yw/maxres...</td>\n",
       "    </tr>\n",
       "    <tr>\n",
       "      <th>3</th>\n",
       "      <td>Model Evaluation Tutorial | Machine Learning (...</td>\n",
       "      <td>1</td>\n",
       "      <td>13</td>\n",
       "      <td>Model Evaluation |</td>\n",
       "      <td>KONNEKSHIN</td>\n",
       "      <td>2021-01-01</td>\n",
       "      <td>['Education']</td>\n",
       "      <td>['Model Evaluation | Machine Learning (ML) | X...</td>\n",
       "      <td>1004.0</td>\n",
       "      <td>https://www.youtube.com/watch?v=57B37uJctso</td>\n",
       "      <td>2.0</td>\n",
       "      <td>5.0</td>\n",
       "      <td>machine+learning</td>\n",
       "      <td>28853.0</td>\n",
       "      <td>https://i.ytimg.com/vi/57B37uJctso/maxresdefau...</td>\n",
       "    </tr>\n",
       "    <tr>\n",
       "      <th>4</th>\n",
       "      <td>Online Certified Winter Training in Machine Le...</td>\n",
       "      <td>1</td>\n",
       "      <td>98</td>\n",
       "      <td>Reference Notes: 1) Decision tree on Iris Data...</td>\n",
       "      <td>Goeduhub Technologies</td>\n",
       "      <td>2021-01-01</td>\n",
       "      <td>['Education']</td>\n",
       "      <td>NaN</td>\n",
       "      <td>3348.0</td>\n",
       "      <td>https://www.youtube.com/watch?v=tolNACfneQE</td>\n",
       "      <td>12.0</td>\n",
       "      <td>5.0</td>\n",
       "      <td>machine+learning</td>\n",
       "      <td>28853.0</td>\n",
       "      <td>https://i.ytimg.com/vi/tolNACfneQE/maxresdefau...</td>\n",
       "    </tr>\n",
       "  </tbody>\n",
       "</table>\n",
       "</div>"
      ],
      "text/plain": [
       "                                               title  p  view_count  \\\n",
       "0  Introduction to Machine Learning | Ù…Ù‚Ø¯Ù…Ø© ...  1         128   \n",
       "1  Zero Python & Machine Learning Experience to D...  0           1   \n",
       "2               Mario I/O Machine Learning For Games  1           1   \n",
       "3  Model Evaluation Tutorial | Machine Learning (...  1          13   \n",
       "4  Online Certified Winter Training in Machine Le...  1          98   \n",
       "\n",
       "                                         description  \\\n",
       "0  Ù„Ùˆ Ù„Ø³Ø© Ø¹Ù†Ø¯Ùƒ Ø§Ø³Ø¦Ù„Ø© Ø³Ø¨Ù‡Ù… ÙÙŠ ...   \n",
       "1  In less than 3 hours, this course will teach y...   \n",
       "2  Subscribe : https://bit.ly/37Nv28i MarI/O is a...   \n",
       "3                                Model Evaluation |    \n",
       "4  Reference Notes: 1) Decision tree on Iris Data...   \n",
       "\n",
       "                     uploader upload_date                categories  \\\n",
       "0                Deena Gergis  2021-01-01             ['Education']   \n",
       "1  Machine Learning by Python  2021-01-01  ['Science & Technology']   \n",
       "2                   Pro Gamer  2021-01-01                ['Gaming']   \n",
       "3                  KONNEKSHIN  2021-01-01             ['Education']   \n",
       "4       Goeduhub Technologies  2021-01-01             ['Education']   \n",
       "\n",
       "                                                tags  duration  \\\n",
       "0  ['Introduction to Machine Learning', 'Course',...     252.0   \n",
       "1                                                NaN     102.0   \n",
       "2  ['Super Mario World', 'Machine Learning', 'Neu...     342.0   \n",
       "3  ['Model Evaluation | Machine Learning (ML) | X...    1004.0   \n",
       "4                                                NaN    3348.0   \n",
       "\n",
       "                                   webpage_url  like_count average_rating  \\\n",
       "0  https://www.youtube.com/watch?v=SjsBGg1s0lo        29.0            5.0   \n",
       "1  https://www.youtube.com/watch?v=KsP6gPc2lyw         3.0            5.0   \n",
       "2  https://www.youtube.com/watch?v=ZnGKJ2qE5Yw         NaN            NaN   \n",
       "3  https://www.youtube.com/watch?v=57B37uJctso         2.0            5.0   \n",
       "4  https://www.youtube.com/watch?v=tolNACfneQE        12.0            5.0   \n",
       "\n",
       "              query  tempo_desde_pub  \\\n",
       "0  machine+learning          28853.0   \n",
       "1  machine+learning          28853.0   \n",
       "2  machine+learning          28853.0   \n",
       "3  machine+learning          28853.0   \n",
       "4  machine+learning          28853.0   \n",
       "\n",
       "                                           thumbnail  \n",
       "0  https://i.ytimg.com/vi_webp/SjsBGg1s0lo/maxres...  \n",
       "1  https://i.ytimg.com/vi_webp/KsP6gPc2lyw/maxres...  \n",
       "2  https://i.ytimg.com/vi_webp/ZnGKJ2qE5Yw/maxres...  \n",
       "3  https://i.ytimg.com/vi/57B37uJctso/maxresdefau...  \n",
       "4  https://i.ytimg.com/vi/tolNACfneQE/maxresdefau...  "
      ]
     },
     "execution_count": 125,
     "metadata": {},
     "output_type": "execute_result"
    }
   ],
   "source": [
    "df1.head()"
   ]
  },
  {
   "cell_type": "code",
   "execution_count": 127,
   "metadata": {},
   "outputs": [
    {
     "data": {
      "text/html": [
       "<div>\n",
       "<style scoped>\n",
       "    .dataframe tbody tr th:only-of-type {\n",
       "        vertical-align: middle;\n",
       "    }\n",
       "\n",
       "    .dataframe tbody tr th {\n",
       "        vertical-align: top;\n",
       "    }\n",
       "\n",
       "    .dataframe thead th {\n",
       "        text-align: right;\n",
       "    }\n",
       "</style>\n",
       "<table border=\"1\" class=\"dataframe\">\n",
       "  <thead>\n",
       "    <tr style=\"text-align: right;\">\n",
       "      <th></th>\n",
       "      <th>title</th>\n",
       "      <th>p</th>\n",
       "      <th>view_count</th>\n",
       "      <th>description</th>\n",
       "      <th>uploader</th>\n",
       "      <th>upload_date</th>\n",
       "      <th>categories</th>\n",
       "      <th>tags</th>\n",
       "      <th>duration</th>\n",
       "      <th>webpage_url</th>\n",
       "      <th>like_count</th>\n",
       "      <th>average_rating</th>\n",
       "      <th>query</th>\n",
       "      <th>tempo_desde_pub</th>\n",
       "      <th>thumbnail</th>\n",
       "      <th>p1</th>\n",
       "      <th>novo</th>\n",
       "    </tr>\n",
       "  </thead>\n",
       "  <tbody>\n",
       "    <tr>\n",
       "      <th>1</th>\n",
       "      <td>Zero Python &amp; Machine Learning Experience to D...</td>\n",
       "      <td>0</td>\n",
       "      <td>1</td>\n",
       "      <td>In less than 3 hours, this course will teach y...</td>\n",
       "      <td>Machine Learning by Python</td>\n",
       "      <td>2021-01-01</td>\n",
       "      <td>['Science &amp; Technology']</td>\n",
       "      <td>NaN</td>\n",
       "      <td>102.0</td>\n",
       "      <td>https://www.youtube.com/watch?v=KsP6gPc2lyw</td>\n",
       "      <td>3.0</td>\n",
       "      <td>5.0</td>\n",
       "      <td>machine+learning</td>\n",
       "      <td>28853.0</td>\n",
       "      <td>https://i.ytimg.com/vi_webp/KsP6gPc2lyw/maxres...</td>\n",
       "      <td>0.599159</td>\n",
       "      <td>1</td>\n",
       "    </tr>\n",
       "    <tr>\n",
       "      <th>8</th>\n",
       "      <td>[Kotlin Android Firebase 16+] EP.26 - Machine ...</td>\n",
       "      <td>0</td>\n",
       "      <td>27</td>\n",
       "      <td>This video is a lecture how to make an applica...</td>\n",
       "      <td>HOWLAB</td>\n",
       "      <td>2021-01-01</td>\n",
       "      <td>['Education']</td>\n",
       "      <td>['android', 'develop', 'application', 'kotlin'...</td>\n",
       "      <td>366.0</td>\n",
       "      <td>https://www.youtube.com/watch?v=EOa4y8RDmQc</td>\n",
       "      <td>2.0</td>\n",
       "      <td>5.0</td>\n",
       "      <td>machine+learning</td>\n",
       "      <td>28853.0</td>\n",
       "      <td>https://i.ytimg.com/vi/EOa4y8RDmQc/maxresdefau...</td>\n",
       "      <td>0.597000</td>\n",
       "      <td>1</td>\n",
       "    </tr>\n",
       "    <tr>\n",
       "      <th>13</th>\n",
       "      <td>Tomb Raider 3 FMV 1 Core logo (4K - AI Machine...</td>\n",
       "      <td>0</td>\n",
       "      <td>2</td>\n",
       "      <td>Original FMV Remastered using AI</td>\n",
       "      <td>Andy Jake</td>\n",
       "      <td>2021-01-01</td>\n",
       "      <td>['Gaming']</td>\n",
       "      <td>['Tomb Raider 3', 'Core logo', 'FMV', 'Remaste...</td>\n",
       "      <td>59.0</td>\n",
       "      <td>https://www.youtube.com/watch?v=VaajnJdcZ40</td>\n",
       "      <td>2.0</td>\n",
       "      <td>5.0</td>\n",
       "      <td>machine+learning</td>\n",
       "      <td>28853.0</td>\n",
       "      <td>https://i.ytimg.com/vi_webp/VaajnJdcZ40/maxres...</td>\n",
       "      <td>0.454000</td>\n",
       "      <td>1</td>\n",
       "    </tr>\n",
       "    <tr>\n",
       "      <th>19</th>\n",
       "      <td>How To Prepare Deep Learning In 2021 In Hindi-...</td>\n",
       "      <td>1</td>\n",
       "      <td>1</td>\n",
       "      <td>Complete DL Playlist: https://www.youtube.com/...</td>\n",
       "      <td>Krish Naik Vlogs</td>\n",
       "      <td>2020-12-31</td>\n",
       "      <td>['People &amp; Blogs']</td>\n",
       "      <td>NaN</td>\n",
       "      <td>631.0</td>\n",
       "      <td>https://www.youtube.com/watch?v=1uJgdDIAjsY</td>\n",
       "      <td>132.0</td>\n",
       "      <td>5.0</td>\n",
       "      <td>machine+learning</td>\n",
       "      <td>28854.0</td>\n",
       "      <td>https://i.ytimg.com/vi_webp/1uJgdDIAjsY/maxres...</td>\n",
       "      <td>0.574159</td>\n",
       "      <td>1</td>\n",
       "    </tr>\n",
       "    <tr>\n",
       "      <th>21</th>\n",
       "      <td>Lesson 27 â€“ Python Pandas DataFrames In Mach...</td>\n",
       "      <td>1</td>\n",
       "      <td>2</td>\n",
       "      <td>In this lesson I will show you how to use Data...</td>\n",
       "      <td>Robo Thoughts</td>\n",
       "      <td>2020-12-31</td>\n",
       "      <td>['Science &amp; Technology']</td>\n",
       "      <td>['Pandas', 'Educational Videos', 'Jetson Nano'...</td>\n",
       "      <td>329.0</td>\n",
       "      <td>https://www.youtube.com/watch?v=r4X_Pvwu1aE</td>\n",
       "      <td>NaN</td>\n",
       "      <td>NaN</td>\n",
       "      <td>machine+learning</td>\n",
       "      <td>28854.0</td>\n",
       "      <td>https://i.ytimg.com/vi/r4X_Pvwu1aE/hqdefault.j...</td>\n",
       "      <td>0.498000</td>\n",
       "      <td>1</td>\n",
       "    </tr>\n",
       "  </tbody>\n",
       "</table>\n",
       "</div>"
      ],
      "text/plain": [
       "                                                title  p  view_count  \\\n",
       "1   Zero Python & Machine Learning Experience to D...  0           1   \n",
       "8   [Kotlin Android Firebase 16+] EP.26 - Machine ...  0          27   \n",
       "13  Tomb Raider 3 FMV 1 Core logo (4K - AI Machine...  0           2   \n",
       "19  How To Prepare Deep Learning In 2021 In Hindi-...  1           1   \n",
       "21  Lesson 27 â€“ Python Pandas DataFrames In Mach...  1           2   \n",
       "\n",
       "                                          description  \\\n",
       "1   In less than 3 hours, this course will teach y...   \n",
       "8   This video is a lecture how to make an applica...   \n",
       "13                  Original FMV Remastered using AI    \n",
       "19  Complete DL Playlist: https://www.youtube.com/...   \n",
       "21  In this lesson I will show you how to use Data...   \n",
       "\n",
       "                      uploader upload_date                categories  \\\n",
       "1   Machine Learning by Python  2021-01-01  ['Science & Technology']   \n",
       "8                       HOWLAB  2021-01-01             ['Education']   \n",
       "13                   Andy Jake  2021-01-01                ['Gaming']   \n",
       "19            Krish Naik Vlogs  2020-12-31        ['People & Blogs']   \n",
       "21               Robo Thoughts  2020-12-31  ['Science & Technology']   \n",
       "\n",
       "                                                 tags  duration  \\\n",
       "1                                                 NaN     102.0   \n",
       "8   ['android', 'develop', 'application', 'kotlin'...     366.0   \n",
       "13  ['Tomb Raider 3', 'Core logo', 'FMV', 'Remaste...      59.0   \n",
       "19                                                NaN     631.0   \n",
       "21  ['Pandas', 'Educational Videos', 'Jetson Nano'...     329.0   \n",
       "\n",
       "                                    webpage_url  like_count average_rating  \\\n",
       "1   https://www.youtube.com/watch?v=KsP6gPc2lyw         3.0            5.0   \n",
       "8   https://www.youtube.com/watch?v=EOa4y8RDmQc         2.0            5.0   \n",
       "13  https://www.youtube.com/watch?v=VaajnJdcZ40         2.0            5.0   \n",
       "19  https://www.youtube.com/watch?v=1uJgdDIAjsY       132.0            5.0   \n",
       "21  https://www.youtube.com/watch?v=r4X_Pvwu1aE         NaN            NaN   \n",
       "\n",
       "               query  tempo_desde_pub  \\\n",
       "1   machine+learning          28853.0   \n",
       "8   machine+learning          28853.0   \n",
       "13  machine+learning          28853.0   \n",
       "19  machine+learning          28854.0   \n",
       "21  machine+learning          28854.0   \n",
       "\n",
       "                                            thumbnail        p1  novo  \n",
       "1   https://i.ytimg.com/vi_webp/KsP6gPc2lyw/maxres...  0.599159     1  \n",
       "8   https://i.ytimg.com/vi/EOa4y8RDmQc/maxresdefau...  0.597000     1  \n",
       "13  https://i.ytimg.com/vi_webp/VaajnJdcZ40/maxres...  0.454000     1  \n",
       "19  https://i.ytimg.com/vi_webp/1uJgdDIAjsY/maxres...  0.574159     1  \n",
       "21  https://i.ytimg.com/vi/r4X_Pvwu1aE/hqdefault.j...  0.498000     1  "
      ]
     },
     "execution_count": 127,
     "metadata": {},
     "output_type": "execute_result"
    }
   ],
   "source": [
    "df2 = pd.read_csv('active_label1.csv', index_col=0)\n",
    "df2['novo'] = 1\n",
    "df2.head()"
   ]
  },
  {
   "cell_type": "code",
   "execution_count": 129,
   "metadata": {},
   "outputs": [
    {
     "data": {
      "text/plain": [
       "(0.7470792523607148, 0.6998696291365011)"
      ]
     },
     "execution_count": 129,
     "metadata": {},
     "output_type": "execute_result"
    }
   ],
   "source": [
    "average_precision_score(df2['p'],df2['p1']), roc_auc_score(df2['p'],df2['p1'])"
   ]
  },
  {
   "cell_type": "code",
   "execution_count": 130,
   "metadata": {},
   "outputs": [],
   "source": [
    "df = pd.concat([df1,df2.drop('p1',axis=1)])"
   ]
  },
  {
   "cell_type": "code",
   "execution_count": 141,
   "metadata": {},
   "outputs": [],
   "source": [
    "y = df['p'].copy()"
   ]
  },
  {
   "cell_type": "code",
   "execution_count": 133,
   "metadata": {},
   "outputs": [],
   "source": [
    "df_limpo = pd.DataFrame(index=df.index)\n",
    "df_limpo['title'] = df['title']\n",
    "df_limpo['novo'] = df['novo'].fillna(0)"
   ]
  },
  {
   "cell_type": "code",
   "execution_count": 135,
   "metadata": {},
   "outputs": [
    {
     "data": {
      "text/html": [
       "<div>\n",
       "<style scoped>\n",
       "    .dataframe tbody tr th:only-of-type {\n",
       "        vertical-align: middle;\n",
       "    }\n",
       "\n",
       "    .dataframe tbody tr th {\n",
       "        vertical-align: top;\n",
       "    }\n",
       "\n",
       "    .dataframe thead th {\n",
       "        text-align: right;\n",
       "    }\n",
       "</style>\n",
       "<table border=\"1\" class=\"dataframe\">\n",
       "  <thead>\n",
       "    <tr style=\"text-align: right;\">\n",
       "      <th></th>\n",
       "      <th>title</th>\n",
       "      <th>novo</th>\n",
       "      <th>upload_date</th>\n",
       "      <th>view_count</th>\n",
       "      <th>views_por_dia</th>\n",
       "    </tr>\n",
       "  </thead>\n",
       "  <tbody>\n",
       "    <tr>\n",
       "      <th>0</th>\n",
       "      <td>Introduction to Machine Learning | Ù…Ù‚Ø¯Ù…Ø© ...</td>\n",
       "      <td>0.0</td>\n",
       "      <td>2021-01-01</td>\n",
       "      <td>128</td>\n",
       "      <td>0.004436</td>\n",
       "    </tr>\n",
       "    <tr>\n",
       "      <th>1</th>\n",
       "      <td>Zero Python &amp; Machine Learning Experience to D...</td>\n",
       "      <td>0.0</td>\n",
       "      <td>2021-01-01</td>\n",
       "      <td>1</td>\n",
       "      <td>0.000035</td>\n",
       "    </tr>\n",
       "    <tr>\n",
       "      <th>2</th>\n",
       "      <td>Mario I/O Machine Learning For Games</td>\n",
       "      <td>0.0</td>\n",
       "      <td>2021-01-01</td>\n",
       "      <td>1</td>\n",
       "      <td>0.000035</td>\n",
       "    </tr>\n",
       "    <tr>\n",
       "      <th>3</th>\n",
       "      <td>Model Evaluation Tutorial | Machine Learning (...</td>\n",
       "      <td>0.0</td>\n",
       "      <td>2021-01-01</td>\n",
       "      <td>13</td>\n",
       "      <td>0.000451</td>\n",
       "    </tr>\n",
       "    <tr>\n",
       "      <th>4</th>\n",
       "      <td>Online Certified Winter Training in Machine Le...</td>\n",
       "      <td>0.0</td>\n",
       "      <td>2021-01-01</td>\n",
       "      <td>98</td>\n",
       "      <td>0.003397</td>\n",
       "    </tr>\n",
       "  </tbody>\n",
       "</table>\n",
       "</div>"
      ],
      "text/plain": [
       "                                               title  novo upload_date  \\\n",
       "0  Introduction to Machine Learning | Ù…Ù‚Ø¯Ù…Ø© ...   0.0  2021-01-01   \n",
       "1  Zero Python & Machine Learning Experience to D...   0.0  2021-01-01   \n",
       "2               Mario I/O Machine Learning For Games   0.0  2021-01-01   \n",
       "3  Model Evaluation Tutorial | Machine Learning (...   0.0  2021-01-01   \n",
       "4  Online Certified Winter Training in Machine Le...   0.0  2021-01-01   \n",
       "\n",
       "   view_count  views_por_dia  \n",
       "0         128       0.004436  \n",
       "1           1       0.000035  \n",
       "2           1       0.000035  \n",
       "3          13       0.000451  \n",
       "4          98       0.003397  "
      ]
     },
     "execution_count": 135,
     "metadata": {},
     "output_type": "execute_result"
    }
   ],
   "source": [
    "df_limpo['upload_date'] = df['upload_date']\n",
    "df_limpo['view_count'] = df['view_count']\n",
    "features = pd.DataFrame(index=df_limpo.index)\n",
    "features['tempo_desde_pub'] = (pd.to_datetime(\"2099-12-31\")- pd.to_datetime(df_limpo[\"upload_date\"])) / np.timedelta64(1,'D')\n",
    "features['views'] = df_limpo['view_count']\n",
    "features['views_por_dia'] = features['views'] / features['tempo_desde_pub']\n",
    "features = features.drop(['tempo_desde_pub'], axis=1)\n",
    "df_limpo['views_por_dia'] = features['views_por_dia']\n",
    "df_limpo.head()"
   ]
  },
  {
   "cell_type": "code",
   "execution_count": 142,
   "metadata": {},
   "outputs": [
    {
     "data": {
      "text/plain": [
       "((758, 2), (1102, 2), (758,), (1102,))"
      ]
     },
     "execution_count": 142,
     "metadata": {},
     "output_type": "execute_result"
    }
   ],
   "source": [
    "mask_train = (df_limpo['upload_date'] < \"2020-06-15\") & (df_limpo['novo'] == 0)\n",
    "#mask_val = (df_limpo['date'] >= \"2019-04-01\") & (df_limpo['novo'] == 0)\n",
    "mask_val = (df_limpo['upload_date'] >= \"2020-06-15\")\n",
    "\n",
    "Xtrain, Xval = features[mask_train], features[mask_val]\n",
    "Ytrain, Yval = y[mask_train], y[mask_val]\n",
    "Xtrain.shape, Xval.shape, Ytrain.shape, Yval.shape"
   ]
  },
  {
   "cell_type": "code",
   "execution_count": 143,
   "metadata": {},
   "outputs": [],
   "source": [
    "title_train = df_limpo[mask_train]['title']\n",
    "title_val = df_limpo[mask_val]['title']\n",
    "\n",
    "title_vec = TfidfVectorizer(min_df=2)\n",
    "title_bow_train = title_vec.fit_transform(title_train)\n",
    "title_bow_val = title_vec.transform(title_val)"
   ]
  },
  {
   "cell_type": "code",
   "execution_count": 144,
   "metadata": {},
   "outputs": [
    {
     "data": {
      "text/plain": [
       "(758, 635)"
      ]
     },
     "execution_count": 144,
     "metadata": {},
     "output_type": "execute_result"
    }
   ],
   "source": [
    "title_bow_train.shape"
   ]
  },
  {
   "cell_type": "code",
   "execution_count": 145,
   "metadata": {},
   "outputs": [],
   "source": [
    "Xtrain_wtitle = hstack([Xtrain, title_bow_train])\n",
    "Xval_wtitle = hstack([Xval, title_bow_val])"
   ]
  },
  {
   "cell_type": "code",
   "execution_count": 146,
   "metadata": {},
   "outputs": [
    {
     "data": {
      "text/plain": [
       "((758, 637), (1102, 637))"
      ]
     },
     "execution_count": 146,
     "metadata": {},
     "output_type": "execute_result"
    }
   ],
   "source": [
    "Xtrain_wtitle.shape, Xval_wtitle.shape"
   ]
  },
  {
   "cell_type": "code",
   "execution_count": 148,
   "metadata": {},
   "outputs": [
    {
     "data": {
      "text/plain": [
       "RandomForestClassifier(class_weight='balanced', n_estimators=1000, n_jobs=8,\n",
       "                       random_state=0)"
      ]
     },
     "execution_count": 148,
     "metadata": {},
     "output_type": "execute_result"
    }
   ],
   "source": [
    "mdl = RandomForestClassifier(n_estimators=1000, random_state=0, class_weight=\"balanced\", n_jobs=8)\n",
    "mdl.fit(Xtrain_wtitle, Ytrain)"
   ]
  },
  {
   "cell_type": "code",
   "execution_count": 149,
   "metadata": {},
   "outputs": [],
   "source": [
    "p = mdl.predict_proba(Xval_wtitle)[:, 1]"
   ]
  },
  {
   "cell_type": "code",
   "execution_count": 150,
   "metadata": {},
   "outputs": [
    {
     "data": {
      "text/plain": [
       "(0.5696533333071685, 0.5992090988280012)"
      ]
     },
     "execution_count": 150,
     "metadata": {},
     "output_type": "execute_result"
    }
   ],
   "source": [
    "average_precision_score(Yval, p), roc_auc_score(Yval, p)"
   ]
  },
  {
   "cell_type": "markdown",
   "metadata": {},
   "source": [
    "# Aumentando o treino"
   ]
  },
  {
   "cell_type": "code",
   "execution_count": 152,
   "metadata": {},
   "outputs": [],
   "source": [
    "mask_train = (df_limpo['upload_date'] < \"2020-06-15\")\n",
    "mask_val = (df_limpo['upload_date'] >= \"2020-06-15\")"
   ]
  },
  {
   "cell_type": "code",
   "execution_count": 154,
   "metadata": {},
   "outputs": [
    {
     "data": {
      "text/plain": [
       "(0.5715939112268373, 0.6029293369232394)"
      ]
     },
     "execution_count": 154,
     "metadata": {},
     "output_type": "execute_result"
    }
   ],
   "source": [
    "Xtrain, Xval = features[mask_train], features[mask_val]\n",
    "Ytrain, Yval = y[mask_train], y[mask_val]\n",
    "Xtrain.shape, Xval.shape, Ytrain.shape, Yval.shape\n",
    "\n",
    "title_train = df_limpo[mask_train]['title']\n",
    "title_val = df_limpo[mask_val]['title']\n",
    "\n",
    "title_vec = TfidfVectorizer(min_df=2)\n",
    "title_bow_train = title_vec.fit_transform(title_train)\n",
    "title_bow_val = title_vec.transform(title_val)\n",
    "\n",
    "Xtrain_wtitle = hstack([Xtrain, title_bow_train])\n",
    "Xval_wtitle = hstack([Xval, title_bow_val])\n",
    "\n",
    "\n",
    "mdl = RandomForestClassifier(n_estimators=1000, random_state=0, class_weight=\"balanced\", n_jobs=8)\n",
    "mdl.fit(Xtrain_wtitle, Ytrain)\n",
    "\n",
    "p = mdl.predict_proba(Xval_wtitle)[:, 1]\n",
    "\n",
    "average_precision_score(Yval, p), roc_auc_score(Yval, p)"
   ]
  },
  {
   "cell_type": "code",
   "execution_count": null,
   "metadata": {},
   "outputs": [],
   "source": []
  }
 ],
 "metadata": {
  "kernelspec": {
   "display_name": "Python 3",
   "language": "python",
   "name": "python3"
  },
  "language_info": {
   "codemirror_mode": {
    "name": "ipython",
    "version": 3
   },
   "file_extension": ".py",
   "mimetype": "text/x-python",
   "name": "python",
   "nbconvert_exporter": "python",
   "pygments_lexer": "ipython3",
   "version": "3.7.6"
  }
 },
 "nbformat": 4,
 "nbformat_minor": 4
}
